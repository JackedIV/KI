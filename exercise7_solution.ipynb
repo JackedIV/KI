{
 "cells": [
  {
   "cell_type": "code",
   "execution_count": 1,
   "metadata": {},
   "outputs": [
    {
     "data": {
      "text/html": [
       "<style>/* Style des gesamten Dokuments */\n",
       "#notebook-container {\n",
       "\tfont-family: \"NimbusMonL-ReguObli\";\n",
       "\tfont-size: 120%\n",
       "}\n",
       "\n",
       "/* Style fÃ¼r die Ãœberschrift: Zentriert diese und stellt sie fett dar. */\n",
       ".headline {\n",
       "\ttext-align: center;\n",
       "\tfont-weight: bold;\n",
       "\tfont-size: 185.7%\n",
       "}\n",
       "\n",
       "/* Style fÃ¼r die Aufgabenbeschreibung. Z.B.: \"Ãœbung zum Thema...\" */\n",
       ".description {\n",
       "\ttext-align: center;\n",
       "\tfont-size: 145.7%\n",
       "}\n",
       "\n",
       "/* Hebt das Abgabedatum fett und kursiv hervor */\n",
       "#submission {\n",
       "\tfont-weight: bold;\n",
       "}\n",
       "\n",
       "/* Style fÃ¼r das eigentliche Thema. Z.B.: \"Intelligenz\" */\n",
       "#topic {\n",
       "\tfont-style: italic;\n",
       "}\n",
       "\n",
       ".task_description {\n",
       "\n",
       "}\n",
       "\n",
       "/* Hebt die Aufgabennummerierung fett hervor. */\n",
       ".task {\n",
       "\tfont-style: normal;\n",
       "\tfont-weight: bold;\n",
       "}\n",
       "\n",
       ".points {\n",
       "\tfont-style: italic;\n",
       "}\n",
       "\n",
       "ol.lower_roman {\n",
       "    list-style-type: lower-roman;\n",
       "}\n",
       "\n",
       "ol.characters {\n",
       "    list-style-type: lower-alpha;\n",
       "}\n",
       "\n",
       ".alignleft {\n",
       "\tfloat: left;\n",
       "}\n",
       ".alignright {\n",
       "\tfloat: right;\n",
       "}\n",
       "\n",
       "/* Style einer Code-Cell */\n",
       ".CodeMirror-code {\n",
       "\tbackground-color: #ededed\n",
       "}\n",
       "\n",
       "/* Style eines Kommentars im Code Ã¤ndern. */\n",
       ".cm-s-ipython span.cm-comment {\n",
       "\n",
       "}\n",
       "\n",
       ".cm-s-ipython span.cm-atom {\n",
       "\n",
       "}\n",
       "\n",
       ".cm-s-ipython span.cm-number {\n",
       "\n",
       "}\n",
       "\n",
       "/* Style eines Python-Keywords Ã¤ndern */\n",
       ".cm-s-ipython span.cm-keyword {\n",
       "\tcolor: #B000B0\n",
       "}\n",
       "\n",
       ".cm-s-ipython span.cm-def {\n",
       "\n",
       "}\n",
       "\n",
       "/* Style einer Python-Variable Ã¤ndern */\n",
       ".cm-s-ipython span.cm-variable {\n",
       "\t\n",
       "}\n",
       "\n",
       "/* Style einer Property Ã¤ndern */\n",
       ".cm-s-ipython span.cm-property {\n",
       "\t\n",
       "}\n",
       "\n",
       "/* Style eines Python-Operators Ã¤ndern */\n",
       ".cm-s-ipython span.cm-operator {\n",
       "\t\n",
       "}\n",
       "\n",
       "/* Style eines Python-Strings Ã¤ndern */\n",
       ".cm-s-ipython span.cm-string {\n",
       "\tcolor: brown;\n",
       "}\n",
       "\n",
       "/* Style einer eingebauten Funktion Ã¤ndern (z.B. \"open\") */\n",
       ".cm-s-ipython span.cm-builtin {\n",
       "\t\n",
       "}\n",
       "\n",
       "/* Hebt hervor, welche Klammern zueinander passen */\n",
       ".cm-s-ipython .CodeMirror-matchingbracket {\n",
       "\t\n",
       "}\n",
       "\n",
       ".cm-s-ipython span.cm-variable-2 {\n",
       "\n",
       "}\n",
       "</style>"
      ],
      "text/plain": [
       "<IPython.core.display.HTML object>"
      ]
     },
     "execution_count": 1,
     "metadata": {},
     "output_type": "execute_result"
    }
   ],
   "source": [
    "from IPython.core.display import HTML\n",
    "\n",
    "HTML(\"<style>\" + open(\"style.css\").read() + \"</style>\")"
   ]
  },
  {
   "cell_type": "markdown",
   "metadata": {},
   "source": [
    "<div class=\"headline\">\n",
    "Grundlagen künstlicher Intelligenz\n",
    "<br><br>\n",
    "Sommersemester 2020\n",
    "</div>\n",
    "<br>\n",
    "<div class=\"description\">\n",
    "    Übung zum Thema <i id=\"topic\">\"Features & Evaluation\"</i>\n",
    "    <br><br>\n",
    "    Deadline Abgabe: <i #id=\"submission\">Freitag, 19.06.2020 (23:55 Uhr)</i>\n",
    "</div>"
   ]
  },
  {
   "cell_type": "markdown",
   "metadata": {},
   "source": [
    "# Präsenzübung\n",
    "\n"
   ]
  },
  {
   "cell_type": "markdown",
   "metadata": {},
   "source": [
    "## Feature Engineering"
   ]
  },
  {
   "cell_type": "markdown",
   "metadata": {},
   "source": [
    "<div class=\"task_description\">\n",
    "    <i class=\"task\">Task 1.1:</i> <br>\n",
    "</div>\n",
    "\n",
    "Die SCHUFA berechnet für jede Person die Wahrscheinlichkeit, dass diese Person Ihren Zahlungsverpflichtungen künftig nachkommt. Was glauben Sie, welche Features werden dafür verwendet. Erstellen Sie eine Liste mit möglichen Features. Beschreiben Sie dabei, wie das Feature erhoben/gemessen wird und benennen Sie den Typ der Werte (binär, nominal, ordinal, numerisch)."
   ]
  },
  {
   "cell_type": "markdown",
   "metadata": {},
   "source": [
    "*The SCHUFA calculates for each person the probability that this person will meet your payment obligations in the future. Which features do you think will be used for this? Create a list of possible features. Describe how the feature is collected/measured and name the type of values (binary, nominal, ordinal, numeric).*"
   ]
  },
  {
   "cell_type": "markdown",
   "metadata": {
    "tags": [
     "solution"
    ]
   },
   "source": [
    "<div class=\"alert alert-info\">\n",
    "\n",
    "Beispielsweise:\n",
    "\n",
    "* Alter (Geburtsdatum): numerisch\n",
    "* Geschlecht (Name?): binär/nominal\n",
    "* Anzahl Konten (Bankabfrage): numerisch\n",
    "* Anzahl Mahnungen im letzten Jahr (?),\n",
    "* Wohnort (PLZ): nominal (Achtung, PLZ ist nicht \"echt\"numerisch, nur 5stellige Zahlen)\n",
    "* Kreditkartenschulden (Bankabfrage): numerisch\n",
    "* ...\n",
    "\n",
    "Es ist nicht genau bekannt, auf welche Daten die Schufa zurückgreift.\n",
    "\n",
    "*Example:*\n",
    "* *Age (date of birth): numeric*\n",
    "* *Sex (name?): binary/nominal*\n",
    "* *Number of accounts (bank query): numeric*\n",
    "* *Number of reminders in the last year (?)*\n",
    "* *Place of residence (PLZ): nominal (Attention, PLZ is not \"real\" numeric, only 5-digit numbers)*\n",
    "* *Credit card debt (bank query): numeric*\n",
    "* ...\n",
    "\n",
    "*It is not known exactly which data the Schufa uses.*\n",
    "    \n",
    "</div>"
   ]
  },
  {
   "cell_type": "markdown",
   "metadata": {},
   "source": [
    "<div class=\"task_description\">\n",
    "    <i class=\"task\">Task 1.2:</i> <br>\n",
    "</div>\n",
    "\n",
    "Sie werden von einem Unternehmen beauftragt ein System zur automatischen Klassifikation von Computerspielen in Alterskategorien zu entwerfen.\n",
    "Die Liste der Kategorien ist ‘0’, ‘6’, ‘12’ und ‘18’.\n",
    "Dies entspricht jeweils dem Mindestalter um das Spiel spielen zu dürfen.\n",
    "Zu jedem Spiel gibt es folgende Meta-Informationen, die für die Klassifikation benutzt werden können:<br><br>\n",
    "*You are commissioned by a company to design a system for the automatic classification of computer games into age categories.\n",
    "The list of categories is '0', '6', '12' and '18'.\n",
    "This is the minimum age to play the game.\n",
    "For each game there is the following meta information, which can be used for classification:*\n",
    "* der Name des Spiels (*the name of the game*),\n",
    "* der Name der Entwicklerfirma (*the name of the developer company*),\n",
    "* einen Text, welcher den Inhalt des Spieles beschreibt (*a text describing the content of the game*)."
   ]
  },
  {
   "cell_type": "markdown",
   "metadata": {},
   "source": [
    "1. Definieren Sie vier Features, welche Sie für die Klassifikation benutzen können. Erklären Sie warum diese hilfreich sein könnten.<br><br>\n",
    "*Define four features that you can use for classification. Explain why they might be helpful.*"
   ]
  },
  {
   "cell_type": "markdown",
   "metadata": {
    "tags": [
     "solution"
    ]
   },
   "source": [
    "<div class=\"alert alert-info\">\n",
    "Häufigkeitsverteilung der Wörter, Name des Spieles, Name der Entwicklerfirma, enthält spezielle Wörter (z.B.\n",
    "Sex, Mord, . . . )<br>\n",
    "    \n",
    "*Frequency distribution of words, name of game, name of developer company, contains special words (e.g.\n",
    "Sex, murder, . . . )*\n",
    "</div>"
   ]
  },
  {
   "cell_type": "markdown",
   "metadata": {},
   "source": [
    "2. Wie würden Sie die Daten unterteilen, wenn Sie den bestmöglichen Klassifikator trainieren wollen, aber gleichzeitig prüfen möchten, ob dieser auch wirklich der beste ist? Begründen Sie Ihre Aufteilung. <br><br>\n",
    "*How would you divide the data if you wanted to train the best possible classifier, but at the same time want to check if it is really the best one? Justify your division.*"
   ]
  },
  {
   "cell_type": "markdown",
   "metadata": {
    "tags": [
     "solution"
    ]
   },
   "source": [
    "<div class=\"alert alert-info\">\n",
    "Randomisierte Aufteilung in Trainingset und Testset (im Verhältnis 9:1 oder 8:2). Cross-validation oder Leave-one-out auf dem Trainingset und finaler Test auf dem Testset. <br>\n",
    "    \n",
    "*Randomized division into training set and test set (ratio 9:1 or 8:2). Cross-validation or Leave-one-out on the training set and final test on the test set*\n",
    "</div>"
   ]
  },
  {
   "cell_type": "markdown",
   "metadata": {},
   "source": [
    "3. Zusätzlich zu den bereits vorliegenden Meta-Daten erhalten Sie die Möglichkeit beliebige weitere Informationen über das Spiel anzufordern, die üblicherweise bekannt sind (mit Ausnahme der Alterseinstufung selbst). Nennen Sie drei zusätzliche Features, welche vermutlich die Klassifikationsgenauigkeit erhöhen werden. Erklären Sie kurz warum Sie denken, dass diese Features hilfreich sein werden.<br><br>\n",
    "*In addition to the existing metadata, you will be given the opportunity to request any other information about the Game that is commonly known (other than the age rating itself). Name three additional features that are likely to increase classification accuracy. Explain briefly why you think these features will be helpful.*"
   ]
  },
  {
   "cell_type": "markdown",
   "metadata": {
    "tags": [
     "solution"
    ]
   },
   "source": [
    "<div class=\"alert alert-info\">\n",
    "\n",
    "Spielzeit: Kinderspiele eher kurz. Erwachsenenspiele eher lang.\n",
    "* Genre: Shooter oft FSK 18, Jump n’ run eher selten.\n",
    "* Bekannte Figuren: Kinderspiele enthalten oft bekannte sich wiederholende Figuren die sich gut einprägen\n",
    "und meistens eine Maskottchen funktion erfüllen.\n",
    "* Name des Chefentwicklers: In der Spieleindustrie arbeitet ein bestimmter Chefentwickler oft an spielen\n",
    "die sich sehr ähnlich oder sogar Nachfolger sind.\n",
    "\n",
    "*Play time: Children's games rather short. Adult games rather long.*\n",
    "* *Genre: Shooter often FSK 18, Jump n' run rather rare.*\n",
    "* *Known characters: Children's games often contain well-known repetitive characters that are easy to remember.\n",
    "and usually perform a mascot function.*\n",
    "* *Name of the chief developer: In the games industry, a certain chief developer often works on games that are very similar or even successors.*\n",
    "    \n",
    "</div>"
   ]
  },
  {
   "cell_type": "markdown",
   "metadata": {},
   "source": [
    "## Linear Regression"
   ]
  },
  {
   "cell_type": "markdown",
   "metadata": {},
   "source": [
    "<div class=\"task_description\">\n",
    "    <i class=\"task\">Task 2:</i> <br>\n",
    "</div>\n",
    "\n",
    "Untenstehend finden Sie Python-Code, der Daten einliest und dann einen Linear Regression Classifier anwendet. <br><br>\n",
    "*Below you will find Python code that reads data and then applies a Linear Regression Classifier.*"
   ]
  },
  {
   "cell_type": "markdown",
   "metadata": {},
   "source": [
    "1. Schauen Sie sich zunächst mal den Code an und analysieren Sie was passiert. <br><br>\n",
    "*First take a look at the code and analyze what happens.*"
   ]
  },
  {
   "cell_type": "code",
   "execution_count": null,
   "metadata": {},
   "outputs": [],
   "source": [
    "import numpy as np\n",
    "import matplotlib.pyplot as plt\n",
    "from sklearn.linear_model import LinearRegression\n",
    "\n",
    "# Format [°C, Consumption]\n",
    "train = [\n",
    "    [41,0.386],\n",
    "    [56,0.374],\n",
    "    [63,0.393],\n",
    "    [68,0.425],\n",
    "    [69,0.406],\n",
    "    [65,0.344],\n",
    "    [61,0.327],\n",
    "    [47,0.288],\n",
    "    [32,0.269],\n",
    "    [24,0.256],\n",
    "    [28,0.286],\n",
    "    [26,0.298],\n",
    "    [32,0.329],\n",
    "    [40,0.318],\n",
    "    [55,0.381],\n",
    "    [63,0.381],\n",
    "    [72,0.470],\n",
    "    [72,0.443],\n",
    "    [67,0.386],\n",
    "    [60,0.342]]\n",
    "\n",
    "test = [\n",
    "    [44,0.319],\n",
    "    [40,0.307],\n",
    "    [32,0.284],\n",
    "    [27,0.326],\n",
    "    [28,0.309],\n",
    "    [33,0.359],\n",
    "    [41,0.376],\n",
    "    [52,0.416],\n",
    "    [64,0.437],\n",
    "    [71,0.548]]\n",
    "\n",
    "#Read train\n",
    "trainX, trainY = zip(*train)\n",
    "trainX = np.array(trainX).reshape(-1,1)\n",
    "\n",
    "#Read test\n",
    "testX, testY = zip(*test)\n",
    "testX = np.array(testX).reshape(-1,1)\n",
    "\n",
    "\n",
    "regr = LinearRegression().fit(trainX, trainY)\n",
    "\n",
    "testY_pred = regr.predict(testX)\n",
    "\n",
    "# Plot outputs\n",
    "plt.scatter(trainX, trainY,  color='black')\n",
    "plt.scatter(testX, testY,  color='red')\n",
    "plt.plot(testX, testY_pred, color='blue', linewidth=3)\n",
    "\n",
    "\n",
    "plt.yticks(np.arange(min(testY), max(testY), 0.05))\n",
    "plt.xticks(np.arange(min(testX), max(testX), 7))\n",
    "\n",
    "plt.show()"
   ]
  },
  {
   "cell_type": "markdown",
   "metadata": {},
   "source": [
    "2. Versuchen Sie das Format der Trainingsdaten zu verstehen: Welche Information wird hier codiert? <br><br>\n",
    "*Try to understand the format of the training data: what information is coded here?*"
   ]
  },
  {
   "cell_type": "markdown",
   "metadata": {
    "tags": [
     "solution"
    ]
   },
   "source": [
    "<div class=\"alert alert-info\">\n",
    "\n",
    "Icecream data: Ein Feature Temperature in Fahrenheit und eine Klasse Ice Cream Consumption in Pints pro Kopf\n",
    "(beide numerisch).\n",
    "</div>\n",
    "<div class=\"alert alert-info\">\n",
    "\n",
    "Ice cream data: A feature \"Temperature\" in Fahrenheit and a class \"Ice Cream Consumption\" in pints per head (both numeric).\n",
    "</div>"
   ]
  },
  {
   "cell_type": "markdown",
   "metadata": {},
   "source": [
    "3. Lassen Sie den Classifier laufen und schauen Sie sich das Ergebnis an. Wie lautet die Regressionsgleichung?\n",
    "Welche Werte wurden für die Variablen w (Gewicht) und b (Bias) gelernt? <br>\n",
    "*Run the classifier and take a look at the result. What is the regression equation?\n",
    "What values were learned for the variables w (weight) and b (bias)?*"
   ]
  },
  {
   "cell_type": "markdown",
   "metadata": {
    "tags": [
     "solution"
    ]
   },
   "source": [
    "<div class=\"alert alert-info\">\n",
    "\n",
    "Regressionsgleichung: Consumption = 0.0029 * Temperature + 0.2026.\n",
    "</div>\n",
    "<div class=\"alert alert-info\">\n",
    "\n",
    "Regression equation: Consumption = 0.0029 * Temperature + 0.2026.\n",
    "</div>"
   ]
  },
  {
   "cell_type": "code",
   "execution_count": null,
   "metadata": {
    "tags": [
     "solution"
    ]
   },
   "outputs": [],
   "source": [
    "print(\"Consumption = w * Temperature + b\")\n",
    "print(\"Consumption =\",regr.coef_[0],\"* Temperature +\", regr.intercept_)"
   ]
  },
  {
   "cell_type": "markdown",
   "metadata": {},
   "source": [
    "4. Am Samstag wird eine Temperatur von 71 Grad Fahrenheit erwartet. Was sagt unser Modell voraus? Wie viel\n",
    "Eiscreme wird am Samstag verkauft werden? <br><br>\n",
    "*On Saturday a temperature of 71 degrees Fahrenheit is expected. What does our model predict? How much\n",
    "Ice cream will be sold on Saturday?*"
   ]
  },
  {
   "cell_type": "markdown",
   "metadata": {
    "tags": [
     "solution"
    ]
   },
   "source": [
    "<div class=\"alert alert-info\">\n",
    "\n",
    "Variable w: [0.0029], Gewichtsvektor mit nur einem Eintrag, da wir nur ein Feature haben, Variable b: 0.2026.\n",
    "Consumption = 0.0029 * 71 + 0.2026 = 0.409\n",
    "    \n",
    "</div>\n",
    "\n",
    "<div class=\"alert alert-info\">\n",
    "\n",
    "Variable w: [0.0029], weight vector which only consists of 1 element, because we only have 1 feature, Variable b: 0.2026.\n",
    "Consumption = 0.0029 * 71 + 0.2026 = 0.409\n",
    "    \n",
    "</div>"
   ]
  },
  {
   "cell_type": "code",
   "execution_count": null,
   "metadata": {
    "tags": [
     "solution"
    ]
   },
   "outputs": [],
   "source": [
    "# automatic\n",
    "print(regr.predict(np.array([[71]])))\n",
    "\n",
    "# manual\n",
    "print(regr.coef_*71 + regr.intercept_)"
   ]
  },
  {
   "cell_type": "markdown",
   "metadata": {},
   "source": [
    "5. Checken Sie nun in den Testdaten, wie viel Eiscreme an einem Tag mit 71 Grad\n",
    "Fahrenheit tatsächlich konsumiert wurde. Hat unser Modell den Konsum unter- oder überschätzt? <br><br>\n",
    "*Now check the test data to see how much ice cream is needed on a day with 71 degrees Celsius.\n",
    "Fahrenheit was actually consumed. Did our model underestimate or overestimate consumption?*"
   ]
  },
  {
   "cell_type": "markdown",
   "metadata": {
    "tags": [
     "solution"
    ]
   },
   "source": [
    "<div class=\"alert alert-info\">\n",
    "\n",
    "0.548, unterschätzt/underestimated\n",
    "</div>"
   ]
  },
  {
   "cell_type": "markdown",
   "metadata": {},
   "source": [
    "## Information Gain"
   ]
  },
  {
   "cell_type": "markdown",
   "metadata": {},
   "source": [
    "<div class=\"task_description\">\n",
    "    <i class=\"task\">Task 3:</i> <br>\n",
    "</div>\n",
    "\n",
    "Sie verfügen über die folgenden (fiktiven) Patientendaten und die dazugehörigen Diagnosen.<br><br>\n",
    "*You have the following (fictitious) patient data and the corresponding diagnoses.*"
   ]
  },
  {
   "cell_type": "markdown",
   "metadata": {},
   "source": [
    "| Patient | Fieber | Übergeben | Durchfall | Zittern | Diagnose                  |\n",
    "|---------|--------|-----------|-----------|---------|---------------------------|\n",
    "| 1       | nein   | nein      | nein      | nein    | gesund (g)                |\n",
    "| 2       | leicht | nein      | nein      | nein    | Grippe (G)                |\n",
    "| 3       | hoch   | nein      | nein      | ja      | Grippe (G)                |\n",
    "| 4       | hoch   | ja        | ja        | nein    | Salmonellenvergiftung (S) |\n",
    "| 5       | leicht | nein      | ja        | nein    | Salmonellenvergiftung (S) |\n",
    "| 6       | nein   | ja        | ja        | nein    | Darmentzündung (D)        |\n",
    "| 7       | leicht | ja        | ja        | nein    | Darmentzündung (D)        |"
   ]
  },
  {
   "cell_type": "markdown",
   "metadata": {},
   "source": [
    "Nach welchem Symptom sollten Sie einen Patienten als Erstes fragen? Berechnen Sie den Information Gain (Informationsgewinn) für jedes Feature. (Bitte beachten Sie, dass hier log_2 statt log benutzt wird.)<br><br>\n",
    "*What symptom should you ask a patient about first? Calculate the Information Gain for each feature. (Please note that log_2 is used here instead of log.)*"
   ]
  },
  {
   "cell_type": "markdown",
   "metadata": {
    "tags": [
     "solution"
    ]
   },
   "source": [
    "<div class=\"alert alert-info\">\n",
    "\n",
    "Beispielrechnung für den ersten (Root) Knoten. (Sample calculation for the first (root) node.)\n",
    "* Entropie des gegebenen Datensatzes S (Entropy of the given dataset):\n",
    "$ Entropy(S) = -\\frac{1}{7}log_2(\\frac{2}{7})-\\frac{2}{7}log_2(\\frac{2}{7})-\\frac{2}{7}log_2(\\frac{2}{7})-\\frac{2}{7}log_2(\\frac{2}{7})$\n",
    "* Betrachte Attribut x = \"Fieber\" (Consider attribute x = \"Fieber\")\n",
    "\n",
    "| Values     | g      | G    | S   | D    | Entropy(Si)                 |\n",
    "|------------|--------|------|-----|------|-----------------------------|\n",
    "| S1(nein)   | *      | -    | -   | *    | [1/2, 0, 0, 1/2] –> 1       |\n",
    "| S2(leicht) | -      | *    | *   | *    | [0, 1/3, 1/3, 1/3] –> 1.585 |\n",
    "| S3(hoch)   | -      | *    | *   | -    | [0, 1/2, 1/2, 0] –> 1       |\n",
    "\n",
    "$ Entropy(S|Fieber) = \\frac{2}{7}*1+\\frac{3}{7}*1.585+\\frac{2}{7}*1 = 1.251$\n",
    "<br>\n",
    "* Betrachte Attribut x = \"Übergeben\" (Consider attribute x = \"Übergeben\")\n",
    "\n",
    "| Values   | g      | G    | S   | D    | Entropy(Si)               |\n",
    "|----------|--------|------|-----|------|---------------------------|\n",
    "| S1(ja)   | -      |  -   | *   | **   | [0, 0, 1/3, 2/3] –> 0.918 |\n",
    "| S2(nein) | *      | **   | *   |  -   | [1/4, 2/4, 1/4, 0] –> 1.5 |\n",
    "\n",
    "$ Entropy(S|Übergeben) = \\frac{3}{7}*0.918+\\frac{4}{7}*1.5 = 1.251$\n",
    "<br>\n",
    "\n",
    "* Betrachte Attribut x = \"Durchfall\" (Consider attribute x = \"Durchfall\")\n",
    "\n",
    "| Values   | g      | G    | S   | D    | Entropy(Si)               |\n",
    "|----------|--------|------|-----|------|---------------------------|\n",
    "| S1(ja)   | -      | -    | **  | **   | [0, 0, 2/4, 2/4] –> 1     |\n",
    "| S2(nein) | *      | **   | -   | -    | [1/3, 2/3, 0, 0] –> 0.918 |\n",
    "\n",
    "$ Entropy(S|Durchfall) = \\frac{4}{7}*1+\\frac{3}{7}*0.918 = 0.965$\n",
    "<br>\n",
    "\n",
    "* Betrachte Attribut x = \"Zittern\" (Consider attribute x = \"Zittern\")\n",
    "\n",
    "| Values   | g      | G    | S   | D    | Entropy(Si)                  |\n",
    "|----------|--------|------|-----|------|------------------------------|\n",
    "| S1(ja)   | -      | *    | -   | -    | [0, 1, 0, 0] –>0             |\n",
    "| S2(nein) | *      | *    | **  | **   | [1/6, 1/6, 2/6, 2/6] –>1.918 |\n",
    "\n",
    "$ Entropy(S|Zittern) = \\frac{1}{7}*0+\\frac{6}{7}*1.918 = 1.644$\n",
    "\n",
    "\n",
    "Das Attribut, das den Informationsgewinn maximiert. (The attribute that maximizes the Information Gain.)\n",
    "* Fieber: $Gain(S) = Ent(s) - Ent(S|Fieber) = 1.95 - 1.251 = 0.699$\n",
    "* Erbrechen: $Gain(S) = Ent(s) - Ent(S|Erbrechen) = 1.95 - 1.251 = 0.699$\n",
    "* Durchfall: $Gain(S) = Ent(s) - Ent(S|Durchfall) = 1.95 - 0.965 = 0.985$\n",
    "* Zittern: $Gain(S) = Ent(s) - Ent(S|Zittern) = 1.95 - 1.644 = 0.306$\n",
    "    \n",
    "Attribut \"Durchfall\" ist das effektivste; es maximiert den Informationsgewinn. (The attribute \"Durchfall\" is the most effective attribute; it maximizes the Information Gain.)\n",
    "    \n",
    "</div>"
   ]
  },
  {
   "cell_type": "markdown",
   "metadata": {},
   "source": [
    "## Evaluation"
   ]
  },
  {
   "cell_type": "markdown",
   "metadata": {},
   "source": [
    "<div class=\"task_description\">\n",
    "    <i class=\"task\">Task 4:</i> <br>\n",
    "</div>\n",
    "\n",
    "Welche der folgenden Aussagen hinsichtlich Konfusionsmatrizen sind wahr/falsch?<br><br>\n",
    "*Which of the following statements regarding confusion matrices are true or false?*"
   ]
  },
  {
   "cell_type": "markdown",
   "metadata": {},
   "source": [
    "1. Die Einträge auf der Hauptdiagonale sind immer 1. <br><br>\n",
    "*The entries on the main diagonal are always 1.*"
   ]
  },
  {
   "cell_type": "markdown",
   "metadata": {
    "tags": [
     "solution"
    ]
   },
   "source": [
    "<div class=\"alert alert-info\">\n",
    "\n",
    "Falsch, die Einträge auf der Hauptdiagonale repräsentieren die Anzahl der korrekt klassifzierten Instanzen.<br>\n",
    "*Wrong, the entries on the main diagonal represent the number of correctly classified instances.*\n",
    "\n",
    "</div>"
   ]
  },
  {
   "cell_type": "markdown",
   "metadata": {},
   "source": [
    "2. Die Zelle (i , j) enthält die Anzahl wie oft die Klasse i falsch als j eingeordnet wurde (unter der Bedingung, dass i ̸= j).<br><br>\n",
    "*The cell (i , j) contains the number of times the class i was wrongly classified as j (under the condition i ̸= j).*"
   ]
  },
  {
   "cell_type": "markdown",
   "metadata": {
    "tags": [
     "solution"
    ]
   },
   "source": [
    "<div class=\"alert alert-info\">\n",
    "Korrekt / Correct\n",
    "</div>"
   ]
  },
  {
   "cell_type": "markdown",
   "metadata": {},
   "source": [
    "3. Die Confusion-Matrix kann benutzt werden, um Probleme beim Klassifizieren zu identifizieren.<br><br>\n",
    "*The Confusion Matrix can be used to identify problems with classification.*"
   ]
  },
  {
   "cell_type": "markdown",
   "metadata": {
    "tags": [
     "solution"
    ]
   },
   "source": [
    "<div class=\"alert alert-info\">\n",
    "\n",
    "Korrekt. Wenn z.B. die Klasse i sehr häufig als Klasse j falsch klassifiziert wird, ist dies ein wichtiger Hinweis nach Features zu suchen, welche die Klassen i und j unterscheiden.<br><br>\n",
    "*Correct. For example, if class i is very often misclassified as class j, this is an important hint to look for features that differentiate classes i and j.*\n",
    "    \n",
    "</div>"
   ]
  },
  {
   "cell_type": "markdown",
   "metadata": {},
   "source": [
    "4. Die Confusion-Matrix kann benutzt werden, um zwei verschiedene Klassifikatoren zu vergleichen.<br><br>\n",
    "*The Confusion Matrix can be used to compare two different classifiers.*\n"
   ]
  },
  {
   "cell_type": "markdown",
   "metadata": {
    "tags": [
     "solution"
    ]
   },
   "source": [
    "<div class=\"alert alert-info\">\n",
    "Korrekt / Correct\n",
    "</div>"
   ]
  },
  {
   "cell_type": "markdown",
   "metadata": {},
   "source": [
    "5. Die Anzahl der Spalten ist immer gleich der Anzahl der Zeilen.<br><br>\n",
    "*The number of columns is always equal to the number of rows.*"
   ]
  },
  {
   "cell_type": "markdown",
   "metadata": {
    "tags": [
     "solution"
    ]
   },
   "source": [
    "<div class=\"alert alert-info\">\n",
    "Korrekt / Correct\n",
    "</div>"
   ]
  },
  {
   "cell_type": "markdown",
   "metadata": {},
   "source": [
    "<div class=\"task_description\">\n",
    "    <i class=\"task\">Task 5.1:</i> <br>\n",
    "</div>\n",
    "\n",
    "Das System aus Aufgabe 1.2. zur automatischen Klassifikation von Computerspielen in Alterskategorien wird in zwei Varianten entwickelt. Welche der beiden Varianten würden Sie empfehlen, wenn es die oberste Priorität ist Kinder vor Spielen zu schützen, die nicht altersgerecht sind? Erläutern Sie Ihre Entscheidung.<br>\n",
    "\n",
    "*The system from Task 1.2. for the automatic classification of computer games into age categories is developed in two variants. Which of the two variants would you recommend if the top priority is to protect children from games that are not age-appropriate? Explain your decision.*"
   ]
  },
  {
   "cell_type": "code",
   "execution_count": null,
   "metadata": {},
   "outputs": [],
   "source": [
    "import seaborn as sn\n",
    "import pandas as pd\n",
    "import matplotlib.pyplot as plt\n",
    "\n",
    "sys1 = [[25, 0, 0, 0],\n",
    "        [ 7,18, 0, 0],\n",
    "        [ 4, 0,19, 2],\n",
    "        [ 0, 0, 0,25]]\n",
    "\n",
    "sys2 = [[14, 4, 4, 4],\n",
    "        [ 0,18, 7, 0],\n",
    "        [ 0, 0,25, 4],\n",
    "        [ 0, 0, 0,26]] \n",
    "\n",
    "labels = [0,6,12,18]\n",
    "\n",
    "%matplotlib inline\n",
    "fig, ax = plt.subplots(1,2, sharey='row')\n",
    "sn.set(font_scale=1.4)#for label size\n",
    "sn.heatmap(pd.DataFrame(sys1, range(4), range(4)), ax=ax[0], cmap=\"GnBu\", xticklabels=labels, yticklabels=labels, annot=True, annot_kws={\"size\": 16}, cbar=False).set_title(\"System 1\");\n",
    "sn.heatmap(pd.DataFrame(sys2, range(4), range(4)), ax=ax[1], cmap=\"GnBu\", xticklabels=labels, yticklabels=labels, annot=True, annot_kws={\"size\": 16}).set_title(\"System 2\");\n",
    "plt.xlabel('prediction');\n",
    "plt.ylabel('gold');"
   ]
  },
  {
   "cell_type": "markdown",
   "metadata": {},
   "source": [
    "<div class=\"task_description\">\n",
    "    <i class=\"task\">Task 5.2:</i> <br>\n",
    "</div>\n",
    "\n",
    "Gegeben sei ein Klassifikator zur Erkennung von Spam-Emails.\n",
    "Auf einem Testset von Emails zeigt er folgende Ergebnisse: <br>\n",
    "\n",
    "*A classifier for the detection of spam emails is given. On a test set of emails it shows the following results:*\n",
    "\n",
    "| Mail-ID | Manuelle Einordnung | Automatische Einordnung | TP/FP/TN/FN |\n",
    "| --- | --- | --- | --- |\n",
    "| 1 | ok | ok |  |\n",
    "| 2 | ok | ok |  |\n",
    "| 3 | spam | spam |  |\n",
    "| 4 | spam | ok |  |\n",
    "| 5 | ok | spam |  |\n",
    "| 6 | ok | ok |  |"
   ]
  },
  {
   "cell_type": "markdown",
   "metadata": {},
   "source": [
    "1. Berechnen Sie Accuracy, Precision(spam), Recall(spam), und $F_1$-measure. <br><br>\n",
    "*Calculate Accuracy, Precision(spam), Recall(spam), and $F_1$-measure.*\n",
    "\n",
    "$$P = \\frac{TP}{TP+FP}$$\n",
    "\n",
    "$$R = \\frac{TP}{TP+FN}$$\n",
    "\n",
    "$$F_1 = \\frac{2 \\times P  \\times R}{P+R}$$"
   ]
  },
  {
   "cell_type": "markdown",
   "metadata": {
    "tags": [
     "solution"
    ]
   },
   "source": [
    "<div class=\"alert alert-info\">\n",
    "\n",
    "| Mail-ID | Manuelle Einordnung | Automatische Einordnung | TP/FP/TN/FN |\n",
    "| --- | --- | --- | --- |\n",
    "| 1 | ok | ok | TN |\n",
    "| 2 | ok | ok | TN |\n",
    "| 3 | spam | spam | TP |\n",
    "| 4 | spam | ok | FN |\n",
    "| 5 | ok | spam | FP |\n",
    "| 6 | ok | ok | TN |\n",
    "\n",
    "* $TP = 1$\n",
    "* $FP = 1$\n",
    "* $FN = 1$\n",
    "* $TN = 3$\n",
    "* $acc = \\frac{2}{3}$\n",
    "* $P(spam) = \\frac{1}{2}$\n",
    "* $R(spam) = \\frac{1}{2}$\n",
    "* $F_1(spam) = \\frac{1}{2}$\n",
    "    \n",
    "</div>"
   ]
  },
  {
   "cell_type": "markdown",
   "metadata": {},
   "source": [
    "2. Mit welcher Strategie können Sie einfach den Recall(SPAM) maximieren? Berechnen Sie A, P, und $F_1$ für diesen Fall. <br><br>\n",
    "*With which strategy can you maximize the Recall(SPAM) simply? Calculate A, P, and $F_1$ for this case.*"
   ]
  },
  {
   "cell_type": "markdown",
   "metadata": {
    "tags": [
     "solution"
    ]
   },
   "source": [
    "<div class=\"alert alert-info\">\n",
    "\n",
    "Wenn alle Emails als spam klassifiziert werden, ist der Recall automatisch maximal.\n",
    "In diesem Fall ist $A = P$.\n",
    "Da wir nur zwei wirkliche Spam-Mails im Testdatensatz haben, ist die Precision $\\frac{2}{6} = \\frac{1}{3}$ <br>\n",
    "\n",
    "*If all emails are classified as spam, the recall is automatically maximum.\n",
    "In this case $A = P$.\n",
    "Since we have only two real spam mails in the test record, the precision is $\\frac{2}{6} = \\frac{1}{3}$*\n",
    "\n",
    "$$F_1 = \\frac{2 \\times \\frac{1}{3} \\times 1}{1+\\frac{1}{3}} = \\frac{1}{2}$$\n",
    "    \n",
    "</div>"
   ]
  },
  {
   "cell_type": "markdown",
   "metadata": {},
   "source": [
    "3. Was ist die “Majority Class” (MC) im obigen Beispiel? Wie ist P(MC), R(MC), und F1 für einen Klassifkator der immer die Majority Class zuweist? <br><br>\n",
    "*What is the Majority Class (MC) in the above example? What is P(MC), R(MC), and F1 for a classifier that always assigns the Majority Class?*"
   ]
  },
  {
   "cell_type": "markdown",
   "metadata": {
    "tags": [
     "solution"
    ]
   },
   "source": [
    "<div class=\"alert alert-info\">\n",
    "\n",
    "Bei der Majority Class handelt es sich um die häufigste Klasse im Datensatz.\n",
    "In diesem Fall ist das OK mit 4 Vorkommen (gegen SPAM mit nur 2 Vorkommen).\n",
    "Recall ist automatisch maximal. In diesem Fall ist A = P.\n",
    "Da wir vier Emails der Klasse OK haben, ist die Precision $\\frac{4}{6} = \\frac{2}{3}$. <br>\n",
    "\n",
    "*The Majority Class is the most common class in the data set.\n",
    "In this case it is OK with 4 occurrences (against SPAM with only 2 occurrences).\n",
    "Recall is automatically maximum. In this case A = P.\n",
    "Since we have four emails of the class OK, the Precision is $\\frac{4}{6} = \\frac{2}{3}$.*\n",
    "\n",
    "$$F_1 = \\frac{2 \\times \\frac{2}{3} \\times 1}{\\frac{2}{3} + 1} = \\frac{4}{5}$$\n",
    "    \n",
    "</div>"
   ]
  },
  {
   "cell_type": "markdown",
   "metadata": {},
   "source": [
    "4. Diskutieren Sie welche Features basierend auf dem Text der Mail ein Klassifikator benutzen könnte, um eine gegebene Email in die Klassen OK/SPAM einzuteilen. <br><br>\n",
    "*Discuss what features based on the text of the mail a classifier could use to classify a given email into OK/SPAM classes.*"
   ]
  },
  {
   "cell_type": "markdown",
   "metadata": {
    "tags": [
     "solution"
    ]
   },
   "source": [
    "<div class=\"alert alert-info\">\n",
    "\n",
    "* Anteil der GROSSGESCHRIEBENEN Wörter (*Percentage of uppercase words*)\n",
    "* Anteil von mehrfachen Satzzeichen!!!!!!! (*Percentage of multiple punctuation marks*)\n",
    "* Anteil der enthaltenen Hyperlinks (*Percentage of hyperlinks included*)\n",
    "* Enthält bestimmte Wörter (Viagra, etc). (*Contains certain words (Viagra, etc).*)\n",
    "* ...\n",
    "</div>"
   ]
  },
  {
   "cell_type": "markdown",
   "metadata": {},
   "source": [
    "# Hausübung"
   ]
  },
  {
   "cell_type": "markdown",
   "metadata": {},
   "source": [
    "### Abgaberichtlinien\n",
    "* Jede Hausübung bringt maximal 10 Hausaufgabenpunkte. 10 Hausaufgabenpunkte entsprechen einem Klausurpunkt.\n",
    "* Im Laufe des Semesters kann es zusätzliche Bonuspunkte (= 1 Klausurpunkt) für Hausübungen geben, in Form von z.B. Challenges, weitere Informationen folgen bei den betreffenden Hausübungen.\n",
    "* Die Abgabe erfolgt in Zweier- oder Dreierteams. **Einzelabgaben werden nicht gewertet**. Die Teammitglieder müssen nicht in derselben Übungsgruppe sein. Bei Problemen bzw. Einzelfällen hinsichtlich dieser Richtlinie kontaktieren Sie einen Tutor.\n",
    "* In der Abgabe müssen alle Teammitglieder mit **Namen und Matrikelnummern gut sichtbar** genannt werden.\n",
    "* Es muss immer nur **ein Teammitglied der Gruppe abgeben**. Sollten aus Versehen mehrere Abgaben der selben Übung erfolgen, kommunizieren Sie dies **zeitnah** an einen Tutor, ansonsten wird die erste korrigierte Abgabe gewertet.\n",
    "* Die Abgabe soll als Jupyter-Notebook erfolgen (.ipynb). Abgaben in einem **anderen Format werden nicht gewertet**. Bei Problemen hinsichtlich dieser Richtlinie kontaktieren Sie einen Tutor.\n",
    "* Es ist nicht nötig, den Präsenzübungsteil in der Abgabe mit abzugeben. Es wird lediglich der Hausübungsteil gewertet.\n",
    "* Wenn Bilder mit abgegeben werden, ist es erlaubt, diese zusammen mit dem Notebook als zip-Ordner abzugeben. Diese sollten folgendermaßen eingefügt werden: ``![Beispiel1](Beispielbild1.PNG)`` (ohne Apostrophe in einer Markdown-Cell)."
   ]
  },
  {
   "cell_type": "markdown",
   "metadata": {},
   "source": [
    "### *Submission guidelines*\n",
    "* *You can reach up to 10 homework points for every homework submission. 10 homework points correspond to one exam point.*\n",
    "* *In the course of the semester, there will be extra bonus points (where each bonus point equals to one exam point) for the homeworks. These will be given in the form of e.g. challenges inside the homeworks. More information will be given in the corresponding homeworks.*\n",
    "* *The submission has to be done by a team of two to three people. **Individual submissions will not be graded**. The team members do not have to attend the same exercise group. If there are any problems regarding this guideline, please reach out to a tutor.*\n",
    "* *Please state the **name and matriculation number of all team members** in every submission **clearly**.*\n",
    "* *Only **one team member should submit** the homework. If more than one version of the same homework is submitted by accident (submitted by more than one group member), please reach out to a tutor **as soon as possible**. Otherwise, the first submitted homework will be graded.*\n",
    "* *The submission must be in a Jupyter Notebook format (.ipynb). Submissions in **other formats will not be graded**. If there are any problems regarding this guideline, please reach out to a tutor.*\n",
    "* *It is not necessary to also submit the part of the exercise discussed by the tutor, please only submit the homework part.*\n",
    "* *If pictures need to be submitted, it is allowed to hand them in in a zip folder, together with the notebook. They should be added to the notebook like this: ``![example1](examplepicture1.PNG)`` (without apostrophs in a Markdown-Cell).*"
   ]
  },
  {
   "cell_type": "markdown",
   "metadata": {},
   "source": [
    "<div class=\"task_description\">\n",
    "    <i class=\"task\">Homework 1:</i>\n",
    "        ::: 10 Hausaufgabenpunkte :::</div>\n",
    "\n",
    "Entwickeln Sie ein Language Identification System basierend auf dem unten stehenden Code.\n",
    "Der verwendete Klassifikator darf nicht verändert werden.\n",
    "Sie dürfen jedoch andere Features verwenden, sowie die Datenbasis verändern/erweitern.\n",
    "\n",
    "*Develop a Language Identification System based on the code below.\n",
    "The classifier used must not be changed.\n",
    "However, you may use other features and change/expand the database.*"
   ]
  },
  {
   "cell_type": "code",
   "execution_count": 1,
   "metadata": {},
   "outputs": [],
   "source": [
    "from sklearn.feature_extraction.text import CountVectorizer\n",
    "from sklearn.feature_extraction import DictVectorizer\n",
    "from sklearn.svm import SVC\n",
    "from sklearn.pipeline import Pipeline\n",
    "from sklearn.datasets import load_files\n",
    "from sklearn import metrics\n",
    "\n",
    "# the training data folder must be passed as first argument\n",
    "dataset = load_files(\"data/lid\")\n",
    "\n",
    "# split the dataset in training and test set:\n",
    "n = dataset.filenames.shape[0]\n",
    "split = int(n*0.8)\n",
    "\n",
    "x_train = [open(f, encoding='utf-8').read() for f in dataset.filenames[:split]]\n",
    "x_test = [open(f, encoding='utf-8').read() for f in dataset.filenames[split:]]\n",
    "\n",
    "y_train = dataset.target[:split]\n",
    "y_test = dataset.target[split:]"
   ]
  },
  {
   "cell_type": "code",
   "execution_count": 2,
   "metadata": {},
   "outputs": [
    {
     "data": {
      "text/plain": [
       "<matplotlib.axes._subplots.AxesSubplot at 0x1b2f96c5d08>"
      ]
     },
     "execution_count": 2,
     "metadata": {},
     "output_type": "execute_result"
    },
    {
     "data": {
      "image/png": "[encoded data removed]",
      "text/plain": [
       "<Figure size 432x288 with 1 Axes>"
      ]
     },
     "metadata": {
      "needs_background": "light"
     },
     "output_type": "display_data"
    }
   ],
   "source": [
    "import seaborn as sns\n",
    "\n",
    "# show the class distribution\n",
    "%matplotlib inline\n",
    "sns.countplot(data=dataset, x='target')"
   ]
  },
  {
   "cell_type": "code",
   "execution_count": 3,
   "metadata": {},
   "outputs": [
    {
     "name": "stdout",
     "output_type": "stream",
     "text": [
      "              precision    recall  f1-score   support\n",
      "\n",
      "          ar       1.00      0.75      0.86         4\n",
      "          de       1.00      0.92      0.96        37\n",
      "          en       0.94      1.00      0.97        31\n",
      "          es       1.00      0.90      0.95        21\n",
      "          fr       1.00      0.91      0.95        23\n",
      "          it       1.00      0.83      0.91        18\n",
      "          ja       0.36      1.00      0.53        13\n",
      "          nl       1.00      0.67      0.80         9\n",
      "          pl       1.00      0.50      0.67        10\n",
      "          pt       1.00      0.91      0.95        22\n",
      "          ru       1.00      0.60      0.75        10\n",
      "\n",
      "    accuracy                           0.87       198\n",
      "   macro avg       0.94      0.82      0.85       198\n",
      "weighted avg       0.95      0.87      0.89       198\n",
      "\n",
      "[[ 3  0  0  0  0  0  1  0  0  0  0]\n",
      " [ 0 34  0  0  0  0  3  0  0  0  0]\n",
      " [ 0  0 31  0  0  0  0  0  0  0  0]\n",
      " [ 0  0  0 19  0  0  2  0  0  0  0]\n",
      " [ 0  0  1  0 21  0  1  0  0  0  0]\n",
      " [ 0  0  0  0  0 15  3  0  0  0  0]\n",
      " [ 0  0  0  0  0  0 13  0  0  0  0]\n",
      " [ 0  0  1  0  0  0  2  6  0  0  0]\n",
      " [ 0  0  0  0  0  0  5  0  5  0  0]\n",
      " [ 0  0  0  0  0  0  2  0  0 20  0]\n",
      " [ 0  0  0  0  0  0  4  0  0  0  6]]\n",
      "\n",
      "The language of \"This is a language detection test.\" is \"ja\"\n",
      "The language of \"Ceci est un test de détection de la langue.\" is \"fr\"\n",
      "The language of \"Dies ist ein Test, um die Sprache zu erkennen.\" is \"ja\"\n"
     ]
    }
   ],
   "source": [
    "clf = Pipeline([\n",
    "    ('vec', CountVectorizer(analyzer=\"word\")),\n",
    "    ('clf', SVC()), # DO NOT CHANGE THIS CLASSIFIER!\n",
    "])\n",
    "\n",
    "# Fit the pipeline on the training set\n",
    "clf.fit(x_train, y_train)\n",
    "\n",
    "# Predict the outcome on the testing set\n",
    "y_predicted = clf.predict(x_test)\n",
    "\n",
    "# Print the classification report\n",
    "print(metrics.classification_report(y_test, y_predicted, target_names=dataset.target_names))\n",
    "\n",
    "# Plot the confusion matrix\n",
    "cm = metrics.confusion_matrix(y_test, y_predicted)\n",
    "print(cm)\n",
    "\n",
    "# Predict the result on some short new sentences:\n",
    "sentences = [\n",
    "    u'This is a language detection test.',\n",
    "    u'Ceci est un test de détection de la langue.',\n",
    "    u'Dies ist ein Test, um die Sprache zu erkennen.',\n",
    "]\n",
    "\n",
    "predicted = clf.predict(sentences)\n",
    "\n",
    "print()\n",
    "\n",
    "for s, p in zip(sentences, predicted):\n",
    "    print(u'The language of \"%s\" is \"%s\"' % (s, dataset.target_names[p]))"
   ]
  },
  {
   "cell_type": "markdown",
   "metadata": {},
   "source": [
    "More data:\n",
    "* Wikipedia\n",
    "* http://www.cs.cmu.edu/~ralf/langid.html\n",
    "* https://wortschatz.uni-leipzig.de/en/download"
   ]
  },
  {
   "cell_type": "markdown",
   "metadata": {},
   "source": [
    "<div class=\"task_description\">\n",
    "        :::1 Extra-Klausurbonuspunkt :::</div>\n",
    "                                \n",
    "Ein Extra-Klausurbonuspunkt wird an die fünf bestplazierten Teams vergeben.\n",
    "Die Endergebnisse werden in der Vorlesung sowie in einer Liste auf Moodle präsentiert.\n",
    "\n",
    "*An additional exam bonus point is awarded to the five best placed teams. The final results will be presented in the lecture and in a list on Moodle.*"
   ]
  }
 ],
 "metadata": {
  "celltoolbar": "Tags",
  "kernelspec": {
   "display_name": "Python 3",
   "language": "python",
   "name": "python3"
  },
  "language_info": {
   "codemirror_mode": {
    "name": "ipython",
    "version": 3
   },
   "file_extension": ".py",
   "mimetype": "text/x-python",
   "name": "python",
   "nbconvert_exporter": "python",
   "pygments_lexer": "ipython3",
   "version": "3.7.3"
  },
  "varInspector": {
   "cols": {
    "lenName": 16,
    "lenType": 16,
    "lenVar": 40
   },
   "kernels_config": {
    "python": {
     "delete_cmd_postfix": "",
     "delete_cmd_prefix": "del ",
     "library": "var_list.py",
     "varRefreshCmd": "print(var_dic_list())"
    },
    "r": {
     "delete_cmd_postfix": ") ",
     "delete_cmd_prefix": "rm(",
     "library": "var_list.r",
     "varRefreshCmd": "cat(var_dic_list()) "
    }
   },
   "types_to_exclude": [
    "module",
    "function",
    "builtin_function_or_method",
    "instance",
    "_Feature"
   ],
   "window_display": false
  }
 },
 "nbformat": 4,
 "nbformat_minor": 2
}
