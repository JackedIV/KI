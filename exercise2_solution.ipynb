{
 "cells": [
  {
   "cell_type": "code",
   "execution_count": 1,
   "metadata": {},
   "outputs": [
    {
     "data": {
      "text/html": [
       "<style>/* Style des gesamten Dokuments */\n",
       "#notebook-container {\n",
       "\tfont-family: \"NimbusMonL-ReguObli\";\n",
       "\tfont-size: 120%\n",
       "}\n",
       "\n",
       "/* Style für die Überschrift: Zentriert diese und stellt sie fett dar. */\n",
       ".headline {\n",
       "\ttext-align: center;\n",
       "\tfont-weight: bold;\n",
       "\tfont-size: 185.7%\n",
       "}\n",
       "\n",
       "/* Style für die Aufgabenbeschreibung. Z.B.: \"Übung zum Thema...\" */\n",
       ".description {\n",
       "\ttext-align: center;\n",
       "\tfont-size: 145.7%\n",
       "}\n",
       "\n",
       "/* Hebt das Abgabedatum fett und kursiv hervor */\n",
       "#submission {\n",
       "\tfont-weight: bold;\n",
       "}\n",
       "\n",
       "/* Style für das eigentliche Thema. Z.B.: \"Intelligenz\" */\n",
       "#topic {\n",
       "\tfont-style: italic;\n",
       "}\n",
       "\n",
       ".task_description {\n",
       "\n",
       "}\n",
       "\n",
       "/* Hebt die Aufgabennummerierung fett hervor. */\n",
       ".task {\n",
       "\tfont-style: normal;\n",
       "\tfont-weight: bold;\n",
       "}\n",
       "\n",
       ".points {\n",
       "\tfont-style: italic;\n",
       "}\n",
       "\n",
       "/* Style einer Code-Cell */\n",
       ".CodeMirror-code {\n",
       "\tbackground-color: #ededed\n",
       "}\n",
       "\n",
       "/* Style eines Kommentars im Code ändern. */\n",
       ".cm-s-ipython span.cm-comment {\n",
       "\n",
       "}\n",
       "\n",
       ".cm-s-ipython span.cm-atom {\n",
       "\n",
       "}\n",
       "\n",
       ".cm-s-ipython span.cm-number {\n",
       "\n",
       "}\n",
       "\n",
       "/* Style eines Python-Keywords ändern */\n",
       ".cm-s-ipython span.cm-keyword {\n",
       "\tcolor: #B000B0\n",
       "}\n",
       "\n",
       ".cm-s-ipython span.cm-def {\n",
       "\n",
       "}\n",
       "\n",
       "/* Style einer Python-Variable ändern */\n",
       ".cm-s-ipython span.cm-variable {\n",
       "\t\n",
       "}\n",
       "\n",
       "/* Style einer Property ändern */\n",
       ".cm-s-ipython span.cm-property {\n",
       "\t\n",
       "}\n",
       "\n",
       "/* Style eines Python-Operators ändern */\n",
       ".cm-s-ipython span.cm-operator {\n",
       "\t\n",
       "}\n",
       "\n",
       "/* Style eines Python-Strings ändern */\n",
       ".cm-s-ipython span.cm-string {\n",
       "\tcolor: brown;\n",
       "}\n",
       "\n",
       "/* Style einer eingebauten Funktion ändern (z.B. \"open\") */\n",
       ".cm-s-ipython span.cm-builtin {\n",
       "\t\n",
       "}\n",
       "\n",
       "/* Hebt hervor, welche Klammern zueinander passen */\n",
       ".cm-s-ipython .CodeMirror-matchingbracket {\n",
       "\t\n",
       "}\n",
       "\n",
       ".cm-s-ipython span.cm-variable-2 {\n",
       "\n",
       "}</style>"
      ],
      "text/plain": [
       "<IPython.core.display.HTML object>"
      ]
     },
     "execution_count": 1,
     "metadata": {},
     "output_type": "execute_result"
    }
   ],
   "source": [
    "from IPython.core.display import HTML\n",
    "\n",
    "HTML(\"<style>\" + open(\"style.css\").read() + \"</style>\")"
   ]
  },
  {
   "cell_type": "markdown",
   "metadata": {},
   "source": [
    "<div class=\"headline\">\n",
    "Grundlagen künstlicher Intelligenz\n",
    "<br><br>\n",
    "Sommersemester 2020\n",
    "</div>\n",
    "<br>\n",
    "<div class=\"description\">\n",
    "    Übung zum Thema <i id=\"topic\">\"Agents\"</i>\n",
    "    <br><br>\n",
    "    Deadline Abgabe: <i #id=\"submission\">Freitag, 15.05.2020 (23:55 Uhr)</i>\n",
    "</div>"
   ]
  },
  {
   "cell_type": "markdown",
   "metadata": {},
   "source": [
    "## Präsenzübung"
   ]
  },
  {
   "cell_type": "markdown",
   "metadata": {},
   "source": [
    "<div class=\"task_description\">\n",
    "    <i class=\"task\">Task 1.1:</i>\n",
    "Wie gut sich ein Agent verhält, wird sowohl von der performance measure als auch von der utility function\n",
    "gemessen. Erklären Sie den Unterschied zwischen beiden.\n",
    "</div>"
   ]
  },
  {
   "cell_type": "markdown",
   "metadata": {},
   "source": [
    "*How well an agent behaves is measured by both the performance measure and the utility function. Explain the difference between the two.*"
   ]
  },
  {
   "cell_type": "markdown",
   "metadata": {
    "tags": [
     "solution"
    ]
   },
   "source": [
    "<div class=\"alert alert-info\">\n",
    "\n",
    "Das performance measure ist global, d.h. es spezifiziert nur, was das angestrebte Gesamtziel ist, macht aber keine Aussagen über die individuellen Schritte um dahin zu gelangen. Die utility function ist lokal, d.h. sie bewertet die Nützlichkeit einzelner Schritte oder Zustände.\n",
    "</div>"
   ]
  },
  {
   "cell_type": "markdown",
   "metadata": {
    "tags": [
     "solution"
    ]
   },
   "source": [
    "<div class=\"alert alert-info\">\n",
    "\n",
    "The performance measure is global, i.e. it only specifies what the end goal is and does not give instructions for the individual steps of how to achieve it. The utility function is local, i.e. it measures the usefulness of every step or state.\n",
    "</div>"
   ]
  },
  {
   "cell_type": "markdown",
   "metadata": {},
   "source": [
    "<div class=\"task_description\">\n",
    "    <i class=\"task\">Task 1.2:</i>\n",
    "Definieren Sie mindestens zwei verschiedene performance measures für einen Poker-Agenten. Erläutern Sie,\n",
    "welche davon für einen Agenten leichter zu erreichen sein wird.\n",
    "</div>"
   ]
  },
  {
   "cell_type": "markdown",
   "metadata": {},
   "source": [
    "*Define at least two different performance measures for a poker agent. Explain which of these will be easier for an agent to achieve.*"
   ]
  },
  {
   "cell_type": "markdown",
   "metadata": {
    "tags": [
     "solution"
    ]
   },
   "source": [
    "<div class=\"alert alert-info\">\n",
    "\n",
    "Eine mögliche Antwort:\n",
    "\n",
    "<ul>\n",
    "    <li>Gewinne so viel Geld wie möglich. Schwierig. Man spielt gegen andere Agenten, die auch gewinnen wollen.</li>\n",
    "    <li>Verliere so wenig Geld wie möglich. Leicht(er). Man setzt immer den minimalen Betrag und tut sonst nichts.</li>\n",
    "</div>"
   ]
  },
  {
   "cell_type": "markdown",
   "metadata": {
    "tags": [
     "solution"
    ]
   },
   "source": [
    "<div class=\"alert alert-info\">\n",
    "\n",
    "A possible answer:\n",
    "\n",
    "<ul>\n",
    "    <li>Win as much money as possible. It would be hard, because the agent has to compete with other agents who also want to win.</li>\n",
    "    <li>Lose as little money as possible. It would be easier, because the agent always bets the minimum amount and does nothing otherwise.</li>\n",
    "</div>"
   ]
  },
  {
   "cell_type": "markdown",
   "metadata": {},
   "source": [
    "<div class=\"task_description\">\n",
    "    <i class=\"task\">Task 1.3:</i>\n",
    "Entwerfen Sie PEAS-Beschreibungen für die folgenden Problemstellungen (PEAS = Performance measure,\n",
    "Environment, Actuators, Sensors).<br>\n",
    "</div>\n",
    "\n",
    "* Rasenmäher\n",
    "* Pflegeroboter\n",
    "* Übersetzer für Sprachnachrichten\n",
    "* Agent, der Hotels auswählt\n",
    "* Kreditvergabe"
   ]
  },
  {
   "cell_type": "markdown",
   "metadata": {},
   "source": [
    "*Design PEAS descriptions for the following issues (PEAS = Performance measure, Environment, Actuators, Sensors).*\n",
    "\n",
    "* *Lawnmower*\n",
    "* *Nursing robot*\n",
    "* *Translator for voice messages*\n",
    "* *Agent that selects hotels*\n",
    "* *Bank lending*"
   ]
  },
  {
   "cell_type": "markdown",
   "metadata": {
    "tags": [
     "solution"
    ]
   },
   "source": [
    "<div class=\"alert alert-info\">\n",
    "\n",
    "| Task | Performance measures | Environment | Actuators | Sensors |\n",
    "| ---- | --- | --- | --- | --- |\n",
    "| Rasenmäher | sauberes Mähen, niedrige Dauer des Vorgangs | Rasen | Elektromotor, Schneidewerkzeug, Display | Knöpfe, USB Schnittstelle, Stoßsensor, Regensensor |\n",
    "| Pflegeroboter | Gesundheitszustand, emotionaler Zustand, rechtliche Maßgaben | Altenheim, Wohnung | Roboterarme, Räder | Kontaktsensor, Bildanalyse, medizinische Daten, Mikrophon |\n",
    "| Übersetzer | Korrektes Übersetzen einer Nachricht, Korrekte Ausprache der Übersetzung | Sprachnachricht, Benutzer | Sprachausgaben,  Bildschirmausgaben | Spracheingabe |\n",
    "| Hotelsuche | Preis/Leistungsverhältnis, Distanz zum gewünschten Ort | Internet oder Datenbank | Ergebnisausgabe | Eingegebene Informationen des Nutzers |\n",
    "| Kreditvergabe | Möglichst viele Kunden korrekt nach ihrer Kreditwürdigkeit bewerten | Kunden, Angestellte, Datenbank | Anzeigen einer Bewertung, Eingabeaufforderung | Eingegebene Informationen über den Kunden |"
   ]
  },
  {
   "cell_type": "markdown",
   "metadata": {
    "tags": [
     "solution"
    ]
   },
   "source": [
    "<div class=\"alert alert-info\">\n",
    "\n",
    "| Task | Performance measures | Environment | Actuators | Sensors |\n",
    "| ---- | --- | --- | --- | --- |\n",
    "| Lawn mower | Clean mowing, takes a reasonable time to do the job | Lawn | Electric motor, cutting tool, display | Buttons, USB interface, bump sensors, rain sensors |\n",
    "| Nurse robot | Health condition, emotional condition, legal requirements | Retirement home, apartment | Robot arms, wheels | Contact sensors, image analysis, medical data, microphone |\n",
    "| Translator | Correct translation of an input, correct pronounciation of the translation | Voice message, user | Voice output,  screen output | Voice input |\n",
    "| Hotel seeker | Price-performance ratio, distance to the desired place | Internet or database | Result output | Information inputted by user |\n",
    "| Credit lending | Rate as many customers correctly according to their credit-worthiness | Customers, employees, database | Display of a rating, input prompt | Entered information about the customers |"
   ]
  },
  {
   "cell_type": "markdown",
   "metadata": {},
   "source": [
    "<div class=\"task_description\">\n",
    "    <i class=\"task\">Task 1.4:</i>\n",
    "Entwerfen Sie Umgebungs-Beschreibungen für die oben genannten Problemstellungen. Spezifizieren Sie die\n",
    "Kategorien Observability, Certainty, Temporal succession, Continuity, Scale und Population.\n",
    "</div>"
   ]
  },
  {
   "cell_type": "markdown",
   "metadata": {},
   "source": [
    "*Design environment descriptions for the above issues. Specify the categories Observability, Certainty, Temporal succession, Continuity, Scale and Population.*"
   ]
  },
  {
   "cell_type": "markdown",
   "metadata": {
    "tags": [
     "solution"
    ]
   },
   "source": [
    "<div class=\"alert alert-info\">\n",
    "\n",
    "| Task | Observability | Certainty | Succession | Continuity | Scale | Population |\n",
    "| ---- | --- | --- | --- | --- | --- | --- | \n",
    "| Rasenmäher | partial | stochastic | sequential | dynamic | continuous | single |\n",
    "| Pflegeroboter | partial | stochastic | sequential | dynamic | continuous | more likely single |\n",
    "| Übersetzer | fully | deterministic | episodic | static | continuous | single |\n",
    "| Hotelsuche | partial | deterministic | episodic | dynamic | continuous | single |\n",
    "| Kreditvergabe | fully | strategic | episodic |  static | continuous | single |\n",
    "\n",
    "Mit Lernkomponente wird episodic zu sequential. <br>\n",
    "Dies sind nur einige mögliche Lösungen. Andere Angaben können je nach Modellierung auch richtig sein.\n",
    "</div>"
   ]
  },
  {
   "cell_type": "markdown",
   "metadata": {
    "tags": [
     "solution"
    ]
   },
   "source": [
    "<div class=\"alert alert-info\">\n",
    "\n",
    "| Task | Observability | Certainty | Succession | Continuity | Scale | Population |\n",
    "| ---- | --- | --- | --- | --- | --- | --- | \n",
    "| Lawn mower | partial | stochastic | sequential | dynamic | continuous | single |\n",
    "| Nurse robot | partial | stochastic | sequential | dynamic | continuous | more likely single |\n",
    "| Translator | fully | deterministic | episodic | static | continuous | single |\n",
    "| Hotel seeker | partial | deterministic | episodic | dynamic | continuous | single |\n",
    "| Credit lending | fully | strategic | episodic |  static | continuous | single |\n",
    "\n",
    "With learning components, episodic becomes sequential.<br>\n",
    "These are just some possible solutions. Other solutions with other modelling strategies could also be correct.\n",
    "</div>"
   ]
  },
  {
   "cell_type": "markdown",
   "metadata": {},
   "source": [
    "## Hausübung"
   ]
  },
  {
   "cell_type": "markdown",
   "metadata": {},
   "source": [
    "### Abgaberichtlinien\n",
    "* Jede Hausübung bringt maximal 10 Hausaufgabenpunkte. 10 Hausaufgabenpunkte entsprechen einem Klausurpunkt.\n",
    "* Im Laufe des Semesters kann es zusätzliche Bonuspunkte (= 1 Klausurpunkt) für Hausübungen geben, in Form von z.B. Challenges, weitere Informationen folgen bei den betreffenden Hausübungen.\n",
    "* Die Abgabe erfolgt in Zweier- oder Dreierteams. **Einzelabgaben werden nicht gewertet**. Die Teammitglieder müssen nicht in derselben Übungsgruppe sein. Bei Problemen bzw. Einzelfällen hinsichtlich dieser Richtlinie kontaktieren Sie einen Tutor.\n",
    "* In der Abgabe müssen alle Teammitglieder mit **Namen und Matrikelnummern gut sichtbar** genannt werden.\n",
    "* Es muss immer nur **ein Teammitglied der Gruppe abgeben**. Sollten aus Versehen mehrere Abgaben der selben Übung erfolgen, kommunizieren Sie dies **zeitnah** an einen Tutor, ansonsten wird die erste korrigierte Abgabe gewertet.\n",
    "* Die Abgabe soll als Jupyter-Notebook erfolgen (.ipynb). Abgaben in einem **anderen Format werden nicht gewertet**. Bei Problemen hinsichtlich dieser Richtlinie kontaktieren Sie einen Tutor.\n",
    "* Es ist nicht nötig, den Präsenzübungsteil in der Abgabe mit abzugeben. Es wird lediglich der Hausübungsteil gewertet.\n",
    "* Wenn Bilder mit abgegeben werden, ist es erlaubt, diese zusammen mit dem Notebook als zip-Ordner abzugeben. Diese sollten folgendermaßen eingefügt werden: ``![Beispiel1](Beispielbild1.PNG)`` (ohne Apostrophe in einer Markdown-Cell)."
   ]
  },
  {
   "cell_type": "markdown",
   "metadata": {},
   "source": [
    "### *Submission guidelines*\n",
    "* *You can reach up to 10 homework points for every homework submission. 10 homework points correspond to one exam point.*\n",
    "* *In the course of the semester, there will be extra bonus points (where each bonus point equals to one exam point) for the homeworks. These will be given in the form of e.g. challenges inside the homeworks. More information will be given in the corresponding homeworks.*\n",
    "* *The submission has to be done by a team of two to three people. **Individual submissions will not be graded**. The team members do not have to attend the same exercise group. If there are any problems regarding this guideline, please reach out to a tutor.*\n",
    "* *Please state the **name and matriculation number of all team members** in every submission **clearly**.*\n",
    "* *Only **one team member should submit** the homework. If more than one version of the same homework is submitted by accident (submitted by more than one group member), please reach out to a tutor **as soon as possible**. Otherwise, the first submitted homework will be graded.*\n",
    "* *The submission must be in a Jupyter Notebook format (.ipynb). Submissions in **other formats will not be graded**. If there are any problems regarding this guideline, please reach out to a tutor.*\n",
    "* *It is not necessary to also submit the part of the exercise discussed by the tutor, please only submit the homework part.*\n",
    "* *If pictures need to be submitted, it is allowed to hand them in in a zip folder, together with the notebook. They should be added to the notebook like this: ``![example1](examplepicture1.PNG)`` (without apostrophs in a Markdown-Cell).*"
   ]
  },
  {
   "cell_type": "markdown",
   "metadata": {},
   "source": [
    "<div class=\"task_description\">\n",
    "    <i class=\"task\">Homework 1.1:</i>\n",
    "        ::: 4 Hausaufgabenpunkte :::</div>\n",
    "        \n",
    "Erstellen Sie PEAS-Beschreibungen für die folgenden Agenten. Begründen Sie Ihre Antworten:<br>\n",
    "(a) Mensch-ärger-dich-nicht<br>\n",
    "(b) Selbstfahrende U-Bahn<br>\n",
    "(c) Aktienhändler<br>"
   ]
  },
  {
   "cell_type": "markdown",
   "metadata": {},
   "source": [
    "*Create PEAS descriptions for the following agents. Justify your answers:*<br>\n",
    "*(a) Mensch-ärger-dich-nicht / Ludo* <br>\n",
    "*(b) Self-driving subway* <br>\n",
    "*(c) stock trader* <br>"
   ]
  },
  {
   "cell_type": "markdown",
   "metadata": {},
   "source": [
    "<div class=\"task_description\">\n",
    "    <i class=\"task\">Homework 1.2:</i>\n",
    "        ::: 6 Hausaufgabenpunkte :::</div>\n",
    "\n",
    "Beschreiben Sie die Umgebungen, in denen die Agenten operieren, anhand der Kategorien Observability, Certainty, Temporal Succession, Continuity, Scale, und Population. Begründen Sie Ihre Antworten.\n"
   ]
  },
  {
   "cell_type": "markdown",
   "metadata": {},
   "source": [
    "*Describe the environments in which the agents operate using the categories Observability, Certainty, Temporal Succession, Continuity, Scale, and Population. Justify your answers.*"
   ]
  }
 ],
 "metadata": {
  "kernelspec": {
   "display_name": "Python 3",
   "language": "python",
   "name": "python3"
  },
  "language_info": {
   "codemirror_mode": {
    "name": "ipython",
    "version": 3
   },
   "file_extension": ".py",
   "mimetype": "text/x-python",
   "name": "python",
   "nbconvert_exporter": "python",
   "pygments_lexer": "ipython3",
   "version": "3.8.2"
  },
  "varInspector": {
   "cols": {
    "lenName": 16,
    "lenType": 16,
    "lenVar": 40
   },
   "kernels_config": {
    "python": {
     "delete_cmd_postfix": "",
     "delete_cmd_prefix": "del ",
     "library": "var_list.py",
     "varRefreshCmd": "print(var_dic_list())"
    },
    "r": {
     "delete_cmd_postfix": ") ",
     "delete_cmd_prefix": "rm(",
     "library": "var_list.r",
     "varRefreshCmd": "cat(var_dic_list()) "
    }
   },
   "types_to_exclude": [
    "module",
    "function",
    "builtin_function_or_method",
    "instance",
    "_Feature"
   ],
   "window_display": false
  }
 },
 "nbformat": 4,
 "nbformat_minor": 2
}
