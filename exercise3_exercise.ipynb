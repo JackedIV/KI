{
 "cells": [
  {
   "cell_type": "code",
   "execution_count": 1,
   "metadata": {},
   "outputs": [
    {
     "data": {
      "text/html": [
       "<style>/* Style des gesamten Dokuments */\n",
       "#notebook-container {\n",
       "\tfont-family: \"NimbusMonL-ReguObli\";\n",
       "\tfont-size: 120%\n",
       "}\n",
       "\n",
       "/* Style für die Überschrift: Zentriert diese und stellt sie fett dar. */\n",
       ".headline {\n",
       "\ttext-align: center;\n",
       "\tfont-weight: bold;\n",
       "\tfont-size: 185.7%\n",
       "}\n",
       "\n",
       "/* Style für die Aufgabenbeschreibung. Z.B.: \"Übung zum Thema...\" */\n",
       ".description {\n",
       "\ttext-align: center;\n",
       "\tfont-size: 145.7%\n",
       "}\n",
       "\n",
       "/* Hebt das Abgabedatum fett und kursiv hervor */\n",
       "#submission {\n",
       "\tfont-weight: bold;\n",
       "}\n",
       "\n",
       "/* Style für das eigentliche Thema. Z.B.: \"Intelligenz\" */\n",
       "#topic {\n",
       "\tfont-style: italic;\n",
       "}\n",
       "\n",
       ".task_description {\n",
       "\n",
       "}\n",
       "\n",
       "/* Hebt die Aufgabennummerierung fett hervor. */\n",
       ".task {\n",
       "\tfont-style: normal;\n",
       "\tfont-weight: bold;\n",
       "}\n",
       "\n",
       ".points {\n",
       "\tfont-style: italic;\n",
       "}\n",
       "\n",
       "/* Style einer Code-Cell */\n",
       ".CodeMirror-code {\n",
       "\tbackground-color: #ededed\n",
       "}\n",
       "\n",
       "/* Style eines Kommentars im Code ändern. */\n",
       ".cm-s-ipython span.cm-comment {\n",
       "\n",
       "}\n",
       "\n",
       ".cm-s-ipython span.cm-atom {\n",
       "\n",
       "}\n",
       "\n",
       ".cm-s-ipython span.cm-number {\n",
       "\n",
       "}\n",
       "\n",
       "/* Style eines Python-Keywords ändern */\n",
       ".cm-s-ipython span.cm-keyword {\n",
       "\tcolor: #B000B0\n",
       "}\n",
       "\n",
       ".cm-s-ipython span.cm-def {\n",
       "\n",
       "}\n",
       "\n",
       "/* Style einer Python-Variable ändern */\n",
       ".cm-s-ipython span.cm-variable {\n",
       "\t\n",
       "}\n",
       "\n",
       "/* Style einer Property ändern */\n",
       ".cm-s-ipython span.cm-property {\n",
       "\t\n",
       "}\n",
       "\n",
       "/* Style eines Python-Operators ändern */\n",
       ".cm-s-ipython span.cm-operator {\n",
       "\t\n",
       "}\n",
       "\n",
       "/* Style eines Python-Strings ändern */\n",
       ".cm-s-ipython span.cm-string {\n",
       "\tcolor: brown;\n",
       "}\n",
       "\n",
       "/* Style einer eingebauten Funktion ändern (z.B. \"open\") */\n",
       ".cm-s-ipython span.cm-builtin {\n",
       "\t\n",
       "}\n",
       "\n",
       "/* Hebt hervor, welche Klammern zueinander passen */\n",
       ".cm-s-ipython .CodeMirror-matchingbracket {\n",
       "\t\n",
       "}\n",
       "\n",
       ".cm-s-ipython span.cm-variable-2 {\n",
       "\n",
       "}</style>"
      ],
      "text/plain": [
       "<IPython.core.display.HTML object>"
      ]
     },
     "execution_count": 1,
     "metadata": {},
     "output_type": "execute_result"
    }
   ],
   "source": [
    "from IPython.core.display import HTML\n",
    "\n",
    "HTML(\"<style>\" + open(\"style.css\").read() + \"</style>\")"
   ]
  },
  {
   "cell_type": "markdown",
   "metadata": {},
   "source": [
    "<div class=\"headline\">\n",
    "Grundlagen künstlicher Intelligenz\n",
    "<br><br>\n",
    "Sommersemester 2020\n",
    "</div>\n",
    "<br>\n",
    "<div class=\"description\">\n",
    "    Übung zum Thema <i id=\"topic\">\"Uninformierte Suche\"</i>\n",
    "    <br><br>\n",
    "    Deadline Abgabe: <i #id=\"submission\">Freitag, 22.05.2020 (23:55 Uhr)</i>\n",
    "</div>"
   ]
  },
  {
   "cell_type": "markdown",
   "metadata": {},
   "source": [
    "# Präsenzübung"
   ]
  },
  {
   "cell_type": "markdown",
   "metadata": {},
   "source": [
    "## Suchen"
   ]
  },
  {
   "cell_type": "markdown",
   "metadata": {},
   "source": [
    "<div class=\"task_description\">\n",
    "    <i class=\"task\">Task 1.1:</i> <br>\n",
    "Sie  möchten genau einen Liter Wasser abmessen, haben aber nur zwei Eimer zur Verfügung, die 5 und 3 Liter Wasser fassen. Formulieren Sie das Problem als Suche, d.h. formulieren Sie den Zustandsraum (states), Ausgangszustand (initial state), Ziel (goal), mögliche Handlungen (actions) sowie die Nachfolge-Funktion (successor function) an. Zeichnen Sie den Zustandsgraph als Baum. Ignorieren Sie dabei Übergänge die im selben Zustand bleiben, z.b. Entleeren eines leeren Eimers.\n",
    "</div>"
   ]
  },
  {
   "cell_type": "markdown",
   "metadata": {},
   "source": [
    "*You want to measure exactly one liter of water, but only have two buckets available that hold 5 and 3 liters of water. Formulate the problem as a search, i.e. formulate the state space (states), initial state, goal, possible actions, and the successor function. Draw the state graph as a tree. Ignore transitions that remain in the same state, e.g. Empty an empty bucket.*"
   ]
  },
  {
   "cell_type": "markdown",
   "metadata": {},
   "source": [
    "<div class=\"task_description\">\n",
    "    <i class=\"task\">Task 1.2:</i> <br>\n",
    "Gegeben sei die Problembeschreibung durch die Karte Rumäniens. Sie wollen von Faragas nach Pitesti reisen. Der Ausgangszustand (initial state) und der Zielzustand (goal state) sind entsprechend anzupassen.\n",
    "</div>\n",
    "\n",
    "1. Notieren Sie die/ eine mögliche Reihenfolge der Knoten, die sie mit Breadth-first search erzeugen und expandieren, bis Sie einen Pfad gefunden haben.<br>\n",
    "\n",
    "2. Notieren Sie die/eine mögliche Reihenfolge der Knoten, die sie mit Depth-first search erzeugen und expandieren, bis Sie einen Pfad gefunden haben."
   ]
  },
  {
   "cell_type": "markdown",
   "metadata": {},
   "source": [
    "*Given the problem description by the map of Romania. You want to travel from Faragas to Pitesti. The initial state and the goal state must be adjusted accordingly.*\n",
    "1. *Note the possible order of the nodes you create with Breadth-first search and expand until you find a path.*\n",
    "2. *Note the possible order of the nodes that you create with Depth-first search and expand until you find a path.*"
   ]
  },
  {
   "cell_type": "markdown",
   "metadata": {},
   "source": [
    "![Karte Rumaenien](img/exercise3/Karte_Romania.png)"
   ]
  },
  {
   "cell_type": "markdown",
   "metadata": {},
   "source": [
    "## O-Notation"
   ]
  },
  {
   "cell_type": "markdown",
   "metadata": {},
   "source": [
    "<div class=\"task_description\">\n",
    "    <i class=\"task\">Task 2.1:</i> <br>\n",
    "Geben Sie eine möglichst genaue Abschätzung der Laufzeitkomplexität (time-complexity) an.</div>"
   ]
  },
  {
   "cell_type": "markdown",
   "metadata": {},
   "source": [
    "*Provide an estimate of the runtime complexity that is as accurately as possible.*"
   ]
  },
  {
   "cell_type": "markdown",
   "metadata": {},
   "source": [
    "|Schritte    |              O(?)     \n",
    "|:-|:-|\n",
    "|111|\n",
    "|56n + 7426265|\n",
    "|56n+4n<sup>2</sup> +n<sup>3</sup>|\n",
    "|logn + logloglogn|\n"
   ]
  },
  {
   "cell_type": "markdown",
   "metadata": {},
   "source": [
    "## Programmierung"
   ]
  },
  {
   "cell_type": "markdown",
   "metadata": {},
   "source": [
    "<div class=\"task_description\">\n",
    "    <i class=\"task\">Task 3.1:</i> <br>\n",
    "Im 8-Damen Problem sollen 8 Damen so auf dem Brett platziert werden, dass sie sich gegenseitig nicht schlagen können. Implementieren Sie mit der gegebenen Repräsentation des Bretts einen Test ob eine ausgewählte Dame in Konflikt mit anderen steht oder nicht. Wir vereinfachen auf den Fall mit 5 Damen.\n",
    "</div>"
   ]
  },
  {
   "cell_type": "markdown",
   "metadata": {},
   "source": [
    "*In the 8 queens problem, 8 queens should be placed on the board in such a way that they cannot beat each other. Implement with the given representation of the board a test whether a selected queen is in conflict with others or not. We simplify to 5 queens.*"
   ]
  },
  {
   "cell_type": "markdown",
   "metadata": {},
   "source": [
    "![Acht-Damen Problem](img/exercise3/eight_queens.png)"
   ]
  },
  {
   "cell_type": "markdown",
   "metadata": {},
   "source": [
    "<div class=\"task_description\">\n",
    "    <i class=\"task\">Task 3.2:</i> <br>\n",
    "Untenstehend finden Sie Code für die Breitensuche und die Tiefensuche. Es wird ein Suchraum definiert und dann die beiden Suchstrategien auf das Problem angewendet.\n",
    "</div>"
   ]
  },
  {
   "cell_type": "markdown",
   "metadata": {},
   "source": [
    "*  Zu welchem Ergebnis kommen die beiden Strategien?\n",
    "*  Lassen Sie sich nun nach jeder Iteration jeweils den Stack bzw. die Queue ausgeben. Gehen Sie die Ausgabe Schritt für Schritt durch und stellen Sie sicher, dass Sie den Algorithmus verstehen.\n",
    "*  Vergleichen Sie: wie oft wird die Hauptschleife durchlaufen (Time Complexity)? Wie viele Knoten werden maximal im Speicher behalten (Space Complexity)?\n",
    "*  Experimentieren Sie nun mit verschiedenen Zielknoten und vergleichen Sie die Unterschiede."
   ]
  },
  {
   "cell_type": "markdown",
   "metadata": {},
   "source": [
    "*Below you will find code for Breadth-first search and Depth-first search. A search space is defined and then the two search strategies are applied to the problem.*\n",
    "* *What are the results of the two strategies?*\n",
    "* *After each iteration, let each stack or queue be output. Go through the output step by step and make sure you understand the algorithm.*\n",
    "* *Compare: how often is the main loop (Time Complexity) run through? How many nodes are kept in memory at maximum (Space Complexity)?*\n",
    "* *Now experiment with different target nodes and compare the differences.*"
   ]
  },
  {
   "cell_type": "code",
   "execution_count": null,
   "metadata": {},
   "outputs": [],
   "source": [
    "import collections\n",
    "\n",
    "def bfs(graph, root, goal):\n",
    "    seen = set([root])\n",
    "    queue = collections.deque([root])\n",
    "    while queue:\n",
    "        print(\"Queue: \", queue)\n",
    "        vertex = queue.popleft()\n",
    "        print(\"Expand: \", vertex)\n",
    "        if vertex == goal:\n",
    "            break\n",
    "        for node in graph[vertex]:\n",
    "            if node not in seen:\n",
    "                seen.add(node)\n",
    "                queue.append(node)\n",
    "\n",
    "def dfs(graph, root, goal):\n",
    "    seen = set([root])\n",
    "    stack = [root]\n",
    "    while stack:\n",
    "        print(\"Stack: \", stack)\n",
    "        vertex = stack.pop()\n",
    "        print(\"Expand: \", vertex)\n",
    "        if vertex == goal:\n",
    "            break\n",
    "        for node in graph[vertex]:\n",
    "            if node not in seen:\n",
    "                seen.add(node)\n",
    "                stack.append(node)\n",
    "\n",
    "graph = {1: [2, 3], 2: [4, 5], 3: [6,7,8], 4: [], 5: [], 6: [], 7: [], 8: []} \n",
    "\n",
    "print(\"BFS\")\n",
    "bfs(graph, 1, 8)\n",
    "print()\n",
    "print(\"DFS\")\n",
    "dfs(graph, 1, 8)"
   ]
  },
  {
   "cell_type": "markdown",
   "metadata": {},
   "source": [
    "### Example from Lecture"
   ]
  },
  {
   "cell_type": "code",
   "execution_count": null,
   "metadata": {},
   "outputs": [],
   "source": [
    "graphFromLecture = {\n",
    "    \"A\": [\"B\",\"C\"],\n",
    "    \"B\": [\"D\",\"E\"],\n",
    "    \"C\": [\"F\",\"G\"],\n",
    "    \"D\": [\"H\",\"I\"],\n",
    "    \"E\": [\"J\",\"K\"],\n",
    "    \"F\": [], \"G\": [], \"H\": [], \"I\": [], \"J\": [], \"K\": []\n",
    "} \n",
    "\n",
    "print(\"DFS\")\n",
    "dfs(graphFromLecture, \"A\", \"K\")"
   ]
  },
  {
   "cell_type": "markdown",
   "metadata": {},
   "source": [
    "<div class=\"task_description\">\n",
    "    <i class=\"task\">Task 3.3:</i> <br>\n",
    "Was müssen Sie ändern um Iterative Deepening zu implementieren?\n",
    "</div>"
   ]
  },
  {
   "cell_type": "markdown",
   "metadata": {},
   "source": [
    "*What do you have to change to implement iterative deepening?*"
   ]
  },
  {
   "cell_type": "markdown",
   "metadata": {},
   "source": [
    "# Hausübung"
   ]
  },
  {
   "cell_type": "markdown",
   "metadata": {},
   "source": [
    "### Abgaberichtlinien\n",
    "* Jede Hausübung bringt maximal 10 Hausaufgabenpunkte. 10 Hausaufgabenpunkte entsprechen einem Klausurpunkt.\n",
    "* Im Laufe des Semesters kann es zusätzliche Bonuspunkte (= 1 Klausurpunkt) für Hausübungen geben, in Form von z.B. Challenges, weitere Informationen folgen bei den betreffenden Hausübungen.\n",
    "* Die Abgabe erfolgt in Zweier- oder Dreierteams. **Einzelabgaben werden nicht gewertet**. Die Teammitglieder müssen nicht in derselben Übungsgruppe sein. Bei Problemen bzw. Einzelfällen hinsichtlich dieser Richtlinie kontaktieren Sie einen Tutor.\n",
    "* In der Abgabe müssen alle Teammitglieder mit **Namen und Matrikelnummern gut sichtbar** genannt werden.\n",
    "* Es muss immer nur **ein Teammitglied der Gruppe abgeben**. Sollten aus Versehen mehrere Abgaben der selben Übung erfolgen, kommunizieren Sie dies **zeitnah** an einen Tutor, ansonsten wird die erste korrigierte Abgabe gewertet.\n",
    "* Die Abgabe soll als Jupyter-Notebook erfolgen (.ipynb). Abgaben in einem **anderen Format werden nicht gewertet**. Bei Problemen hinsichtlich dieser Richtlinie kontaktieren Sie einen Tutor.\n",
    "* Es ist nicht nötig, den Präsenzübungsteil in der Abgabe mit abzugeben. Es wird lediglich der Hausübungsteil gewertet.\n",
    "* Wenn Bilder mit abgegeben werden, ist es erlaubt, diese zusammen mit dem Notebook als zip-Ordner abzugeben. Diese sollten folgendermaßen eingefügt werden: ``![Beispiel1](Beispielbild1.PNG)`` (ohne Apostrophe in einer Markdown-Cell)."
   ]
  },
  {
   "cell_type": "markdown",
   "metadata": {},
   "source": [
    "### *Submission guidelines*\n",
    "* *You can reach up to 10 homework points for every homework submission. 10 homework points correspond to one exam point.*\n",
    "* *In the course of the semester, there will be extra bonus points (where each bonus point equals to one exam point) for the homeworks. These will be given in the form of e.g. challenges inside the homeworks. More information will be given in the corresponding homeworks.*\n",
    "* *The submission has to be done by a team of two to three people. **Individual submissions will not be graded**. The team members do not have to attend the same exercise group. If there are any problems regarding this guideline, please reach out to a tutor.*\n",
    "* *Please state the **name and matriculation number of all team members** in every submission **clearly**.*\n",
    "* *Only **one team member should submit** the homework. If more than one version of the same homework is submitted by accident (submitted by more than one group member), please reach out to a tutor **as soon as possible**. Otherwise, the first submitted homework will be graded.*\n",
    "* *The submission must be in a Jupyter Notebook format (.ipynb). Submissions in **other formats will not be graded**. If there are any problems regarding this guideline, please reach out to a tutor.*\n",
    "* *It is not necessary to also submit the part of the exercise discussed by the tutor, please only submit the homework part.*\n",
    "* *If pictures need to be submitted, it is allowed to hand them in in a zip folder, together with the notebook. They should be added to the notebook like this: ``![example1](examplepicture1.PNG)`` (without apostrophs in a Markdown-Cell).*"
   ]
  },
  {
   "cell_type": "markdown",
   "metadata": {},
   "source": [
    "<div class=\"task_description\">\n",
    "    <i class=\"task\">Homework 1.1:</i>\n",
    "        :::4 Hausaufgabenpunkte :::</div>\n",
    "        \n",
    "Ein Bauer möchte einen Kohlkopf, sein Schaf und seinen Hund mit einem Boot über die Ruhr von Duisburg nach Mülheim bringen. \n",
    "\n",
    "* Das Boot am Ufer kann neben dem Bauern allerdings nur ein Tier oder den Kohlkopf aufnehmen. \n",
    "* Nur der Bauer kann das Boot bedienen und der Hund kann nicht mit dem Schaf bzw. das Schaf nicht mit dem Kohlkopf alleine auf einer Seite gelassen werden.\n",
    "\n",
    "Bestimmen Sie eine Reihenfolge von Bootfahrten mit der der Kohlkopf, das Schaf, der Bauer und sein Hund auf der anderen Uferseite ankommen ohne die oben genannten Bedingungen zu verletzen. Formulieren Sie dazu das Problem als Suche. Geben Sie die Repräsentation der Zustände, den Ausgangszustand, den Zielzustand, die möglichen Aktionen, sowie die Nachfolge-Funktion (successor function) an. <br> \n",
    "Begründen Sie kurz, warum Sie sicher/nicht sicher sind, dass der gefundene Pfad die minimal nötige Anzahl von Flussüberquerungen aufweist. Zeichnen Sie den Zustandsgraphen.\n",
    "</div>"
   ]
  },
  {
   "cell_type": "markdown",
   "metadata": {},
   "source": [
    "*A farmer wants to take a cabbage, his sheep and his dog across the Ruhr from Duisburg to Mülheim by boat.*\n",
    "* *The boat on the shore, however, can accommodate only one animal or the cabbage besides the farmer.*\n",
    "* *Only the farmer can operate the boat and the dog can not be left alone with the sheep or the sheep with the cabbage alone on one side.*\n",
    "*Determine a sequence of boat tours with which the cabbage, the sheep, the farmer, and his dog arrive on the other side of the river without violating the above conditions. Formulate the problem as a search. Specify the representation of the states, the initial state, the target state, the possible actions as well as the the successor function.<br>\n",
    "Give a brief explanation as to why you are certain / not certain that the path found has the minimum number of river crossings required. Draw the state graph.*"
   ]
  },
  {
   "cell_type": "markdown",
   "metadata": {},
   "source": [
    "<div class=\"task_description\">\n",
    "    <i class=\"task\">Homework 2.1:</i>\n",
    "        :::3 Hausaufgabenpunkte :::</div>\n",
    "        \n",
    "Unten sehen Sie einen Ausschnitt des Duisburger U-Bahn-Netzes. Formalisieren Sie den Netzplan als Suchbaum mit Duisburg Hbf als Startzustand. Berücksichtigen Sie die folgenden Vereinfachungen:\n",
    "* Parallele Linien werden als einfache Verbindung interpretiert.\n",
    "* Der Abstand zwischen zwei benachbarten Stationen ist immer gleich.\n",
    "\n",
    "Repräsentieren sie den Suchbaum als Datenstruktur in Python. Orientieren Sie sich dabei an dem obenstehenden Code."
   ]
  },
  {
   "cell_type": "markdown",
   "metadata": {},
   "source": [
    "*Below you can see a section of the Duisburg subway network. Formalize the network as a search tree with Duisburg Hbf as the initial state. Consider the following simplifications:* <br>\n",
    "\n",
    "* *Parallel lines are interpreted as a simple connection.*\n",
    "* *The distance between two adjacent stations is always the same.*\n",
    "\n",
    "*Represent the search tree as a data structure in python. Orient yourself by the code above.*"
   ]
  },
  {
   "cell_type": "markdown",
   "metadata": {},
   "source": [
    "![U-Bahn Duisburg](img/exercise3/Duisburg_UBahn_Ausschnitt.png)"
   ]
  },
  {
   "cell_type": "markdown",
   "metadata": {},
   "source": [
    "<div class=\"task_description\">\n",
    "    <i class=\"task\">Homework 2.2:</i>\n",
    "        :::3 Hausaufgabenpunkte :::</div>\n",
    "\n",
    "Sie wollen herausfinden, durch welche U-Bahn Stationen sie vom Hauptbahnhof bis zum Zoo fahren müssen.\n",
    "* Führen Sie eine Breitensuche durch und geben Sie für jede Iteration den Inhalt der Queue an.\n",
    "* Führen Sie eine Tiefensuche durch und geben Sie für jede Iteration den Inhalt des Stacks an.\n",
    "\n",
    "Falls Ihnen die Implementierung des Problems nicht gelingt, können Sie Stack und Queue auch manuell berechnen. Kommentieren Sie in diesem Fall jeden Schritt.        "
   ]
  },
  {
   "cell_type": "markdown",
   "metadata": {},
   "source": [
    "*You want to find out which subway stations you have to pass when travelling from the main station to the zoo.*\n",
    "* *Perform a Breadth-first search and specify the contents of the queue for each iteration.*\n",
    "* *Perform a Depth-first search and specify the contents of the stack for each iteration.\n",
    "*If you do not succeed in implementing the problem, you can also manually calculate the stack and queue. In this case, comment on each step.*"
   ]
  }
 ],
 "metadata": {
  "kernelspec": {
   "display_name": "Python 3",
   "language": "python",
   "name": "python3"
  },
  "language_info": {
   "codemirror_mode": {
    "name": "ipython",
    "version": 3
   },
   "file_extension": ".py",
   "mimetype": "text/x-python",
   "name": "python",
   "nbconvert_exporter": "python",
   "pygments_lexer": "ipython3",
   "version": "3.8.2"
  },
  "varInspector": {
   "cols": {
    "lenName": 16,
    "lenType": 16,
    "lenVar": 40
   },
   "kernels_config": {
    "python": {
     "delete_cmd_postfix": "",
     "delete_cmd_prefix": "del ",
     "library": "var_list.py",
     "varRefreshCmd": "print(var_dic_list())"
    },
    "r": {
     "delete_cmd_postfix": ") ",
     "delete_cmd_prefix": "rm(",
     "library": "var_list.r",
     "varRefreshCmd": "cat(var_dic_list()) "
    }
   },
   "types_to_exclude": [
    "module",
    "function",
    "builtin_function_or_method",
    "instance",
    "_Feature"
   ],
   "window_display": false
  }
 },
 "nbformat": 4,
 "nbformat_minor": 2
}
