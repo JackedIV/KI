{
 "cells": [
  {
   "cell_type": "code",
   "execution_count": 1,
   "metadata": {},
   "outputs": [
    {
     "data": {
      "text/html": [
       "<style>/* Style des gesamten Dokuments */\n",
       "#notebook-container {\n",
       "\tfont-family: \"NimbusMonL-ReguObli\";\n",
       "\tfont-size: 120%\n",
       "}\n",
       "\n",
       "/* Style für die Überschrift: Zentriert diese und stellt sie fett dar. */\n",
       ".headline {\n",
       "\ttext-align: center;\n",
       "\tfont-weight: bold;\n",
       "\tfont-size: 185.7%\n",
       "}\n",
       "\n",
       "/* Style für die Aufgabenbeschreibung. Z.B.: \"Übung zum Thema...\" */\n",
       ".description {\n",
       "\ttext-align: center;\n",
       "\tfont-size: 145.7%\n",
       "}\n",
       "\n",
       "/* Hebt das Abgabedatum fett und kursiv hervor */\n",
       "#submission {\n",
       "\tfont-weight: bold;\n",
       "}\n",
       "\n",
       "/* Style für das eigentliche Thema. Z.B.: \"Intelligenz\" */\n",
       "#topic {\n",
       "\tfont-style: italic;\n",
       "}\n",
       "\n",
       ".task_description {\n",
       "\n",
       "}\n",
       "\n",
       "/* Hebt die Aufgabennummerierung fett hervor. */\n",
       ".task {\n",
       "\tfont-style: normal;\n",
       "\tfont-weight: bold;\n",
       "}\n",
       "\n",
       ".points {\n",
       "\tfont-style: italic;\n",
       "}\n",
       "\n",
       "ol.lower_roman {\n",
       "    list-style-type: lower-roman;\n",
       "}\n",
       "\n",
       "ol.characters {\n",
       "    list-style-type: lower-alpha;\n",
       "}\n",
       "\n",
       ".alignleft {\n",
       "\tfloat: left;\n",
       "}\n",
       ".alignright {\n",
       "\tfloat: right;\n",
       "}\n",
       "\n",
       "/* Style einer Code-Cell */\n",
       ".CodeMirror-code {\n",
       "\tbackground-color: #ededed\n",
       "}\n",
       "\n",
       "/* Style eines Kommentars im Code ändern. */\n",
       ".cm-s-ipython span.cm-comment {\n",
       "\n",
       "}\n",
       "\n",
       ".cm-s-ipython span.cm-atom {\n",
       "\n",
       "}\n",
       "\n",
       ".cm-s-ipython span.cm-number {\n",
       "\n",
       "}\n",
       "\n",
       "/* Style eines Python-Keywords ändern */\n",
       ".cm-s-ipython span.cm-keyword {\n",
       "\tcolor: #B000B0\n",
       "}\n",
       "\n",
       ".cm-s-ipython span.cm-def {\n",
       "\n",
       "}\n",
       "\n",
       "/* Style einer Python-Variable ändern */\n",
       ".cm-s-ipython span.cm-variable {\n",
       "\t\n",
       "}\n",
       "\n",
       "/* Style einer Property ändern */\n",
       ".cm-s-ipython span.cm-property {\n",
       "\t\n",
       "}\n",
       "\n",
       "/* Style eines Python-Operators ändern */\n",
       ".cm-s-ipython span.cm-operator {\n",
       "\t\n",
       "}\n",
       "\n",
       "/* Style eines Python-Strings ändern */\n",
       ".cm-s-ipython span.cm-string {\n",
       "\tcolor: brown;\n",
       "}\n",
       "\n",
       "/* Style einer eingebauten Funktion ändern (z.B. \"open\") */\n",
       ".cm-s-ipython span.cm-builtin {\n",
       "\t\n",
       "}\n",
       "\n",
       "/* Hebt hervor, welche Klammern zueinander passen */\n",
       ".cm-s-ipython .CodeMirror-matchingbracket {\n",
       "\t\n",
       "}\n",
       "\n",
       ".cm-s-ipython span.cm-variable-2 {\n",
       "\n",
       "}\n",
       "</style>"
      ],
      "text/plain": [
       "<IPython.core.display.HTML object>"
      ]
     },
     "execution_count": 1,
     "metadata": {},
     "output_type": "execute_result"
    }
   ],
   "source": [
    "from IPython.core.display import HTML\n",
    "\n",
    "HTML(\"<style>\" + open(\"style.css\").read() + \"</style>\")"
   ]
  },
  {
   "cell_type": "markdown",
   "metadata": {},
   "source": [
    "<div class=\"headline\">\n",
    "Grundlagen künstlicher Intelligenz\n",
    "<br><br>\n",
    "Sommersemester 2020\n",
    "</div>\n",
    "<br>\n",
    "<div class=\"description\">\n",
    "    Übung zum Thema <i id=\"topic\">\"Informierte Suche\"</i>\n",
    "    <br><br>\n",
    "    Deadline Abgabe: <i #id=\"submission\">Freitag, 29.05.2020 (23:55 Uhr)</i>\n",
    "</div>"
   ]
  },
  {
   "cell_type": "markdown",
   "metadata": {},
   "source": [
    "## Präsenzübung"
   ]
  },
  {
   "cell_type": "markdown",
   "metadata": {},
   "source": [
    "<div class=\"task_description\">\n",
    "    <i class=\"task\">Task 1.1:</i>\n",
    "</div>\n",
    "\n",
    "Finden Sie anhand der Karte Rumäniens den Weg von **Arad** nach **Bucharest**. Verwenden\n",
    "Sie **Greedy Best First Search**.\n",
    "\n",
    "*Find the way from **Arad** to **Bucharest** by reference to the map of Romania. Use **Greedy Best First Search**.*\n",
    "\n",
    "![Karte Rumaenien](img/exercise4/Karte_Romania_Heuristik.PNG)\n"
   ]
  },
  {
   "cell_type": "markdown",
   "metadata": {
    "tags": [
     "solution"
    ]
   },
   "source": [
    "<div class=\"alert alert-info\">\n",
    "\n",
    "![greedy_arad_bucharest/01](img/exercise4/greedy_arad_bucharest/01.png)\n",
    "![greedy_arad_bucharest/02](img/exercise4/greedy_arad_bucharest/02.png)\n",
    "![greedy_arad_bucharest/03](img/exercise4/greedy_arad_bucharest/03.png)\n",
    "![greedy_arad_bucharest/04](img/exercise4/greedy_arad_bucharest/04.png)\n",
    "\n",
    "</div>"
   ]
  },
  {
   "cell_type": "markdown",
   "metadata": {},
   "source": [
    "<div class=\"task_description\">\n",
    "    <i class=\"task\">Task 1.2:</i>\n",
    "</div>\n",
    "\n",
    "Finden Sie anhand der Karte Rumäniens den Weg von Arad nach Bucharest. Verwenden Sie **A<sup>∗</sup>** Search.\n",
    "\n",
    "*Find the way from **Arad** to **Bucharest** by reference to the map of Romania. Use **A<sup>∗</sup>** Search.*"
   ]
  },
  {
   "cell_type": "markdown",
   "metadata": {
    "tags": [
     "solution"
    ]
   },
   "source": [
    "<div class=\"alert alert-info\">\n",
    "\n",
    "![a_star_arad_bucharest/01](img/exercise4/a_star_arad_bucharest/01.png)\n",
    "![a_star_arad_bucharest/02](img/exercise4/a_star_arad_bucharest/02.png)\n",
    "![a_star_arad_bucharest/03](img/exercise4/a_star_arad_bucharest/03.png)\n",
    "![a_star_arad_bucharest/04](img/exercise4/a_star_arad_bucharest/04.png)\n",
    "![a_star_arad_bucharest/05](img/exercise4/a_star_arad_bucharest/05.png)\n",
    "![a_star_arad_bucharest/06](img/exercise4/a_star_arad_bucharest/06.png)\n",
    "\n",
    "</div>"
   ]
  },
  {
   "cell_type": "markdown",
   "metadata": {},
   "source": [
    "<div class=\"task_description\">\n",
    "    <i class=\"task\">Task 1.3:</i>\n",
    "</div>   \n",
    "Gegeben sei ein 8-Puzzle:\n",
    "\n",
    "![8_Puzzle](img/exercise4/8_puzzle.png)\n",
    "    \n",
    "Geben Sie an, welche Knoten unter Verwendung der **A<sup>∗</sup>-Suche** expandiert werden. Verwenden Sie die **Manhattan-Distanz** als Heuristik.\n",
    "\n",
    "*Given the above 8 puzzle, indicate which nodes are expanded using the **A<sup>∗</sup>-Search**. Use the **Manhattan Distance** as a heuristic.*\n",
    "\n"
   ]
  },
  {
   "cell_type": "markdown",
   "metadata": {},
   "source": [
    "<div class=\"alert alert-info\">\n",
    "\n",
    "The solution in the form of list of expanded nodes: (1) - (3) - (6) - (9)\n",
    "    \n",
    "Hint: The nodes that occur repeatedly are not represented in the diagram above, because the evaluation function would be so big. According to A* search, all nodes should appear and an evaluation function should be calculated.\n",
    "</div>"
   ]
  },
  {
   "cell_type": "markdown",
   "metadata": {
    "tags": [
     "solution"
    ]
   },
   "source": [
    "<div class=\"alert alert-info\">\n",
    "\n",
    "![8_puzzle_solution](img/exercise4/8_puzzle_solution.png)\n",
    "\n",
    "\n",
    "Die Lösung als Liste der expandierten Knoten: (1) - (3) - (6) - (9)\n",
    "    \n",
    "Hinweis: Die Knoten, die wiederholt auftauchen fehlen in der Darstellung, die Evalierungsfunktion wäre aber immer so groß, dass diese nicht weiter betrachtet werden. Nach A* müssten der Vollständigkeit halber alle Knoten vorkommen und eine Evaluierungsfunktion berechnet werden.\n",
    "</div>"
   ]
  },
  {
   "cell_type": "markdown",
   "metadata": {},
   "source": [
    "<div class=\"task_description\">\n",
    "    <i class=\"task\">Task 2.1:</i>\n",
    "</div>\n",
    "Welche der folgenden Funktionen implementiert die Manhattan Distanz und welche die Euklidische Distanz? Erläutern Sie, woran Sie dies erkennen können.\n",
    "    \n",
    "*Which of the following functions implements the Manhattan Distance and which the Euclidean Distance? Explain where you can see this.*"
   ]
  },
  {
   "cell_type": "code",
   "execution_count": 27,
   "metadata": {},
   "outputs": [],
   "source": [
    "import math\n",
    "\n",
    "def dist1(v1, v2):\n",
    "    sum_diff = 0\n",
    "    for i in range(0, len(v1)):\n",
    "        sum_diff += (v1[i] - v2[i])**2\n",
    "\n",
    "    return math.sqrt(sum_diff)\n",
    "\n",
    "def dist2(v1, v2):\n",
    "    sum_diff = 0\n",
    "    for i in range(0, len(v1)):\n",
    "        sum_diff += abs(v1[i] - v2[i])\n",
    "\n",
    "    return sum_diff"
   ]
  },
  {
   "cell_type": "markdown",
   "metadata": {
    "tags": [
     "solution"
    ]
   },
   "source": [
    "<div class=\"alert alert-info\">\n",
    "    \n",
    "* Manhattan Distanz: x1 - x2, y1 - y2, z1 - z2, absoluten Werte addieren\n",
    "* Euklidische Distanz: x1 - x2, y1 - y2, z1 - z2; quadrieren, addieren, Wurzel ziehen\n",
    "* dist1 = Euklidische Distanz, dist2 = Manhattan Distanz\n",
    "</div>"
   ]
  },
  {
   "cell_type": "markdown",
   "metadata": {},
   "source": [
    "<div class=\"task_description\">\n",
    "    <i class=\"task\">Task 2.2:</i>\n",
    "<div>\n",
    "    \n",
    "Adaptieren Sie die Funktion `dist1(v1, v2)` in zwei Weisen:\n",
    " * a) nutzen Sie eine list comprehension\n",
    " * b) nutzen Sie die `zip()` Funktion.\n",
    "    \n",
    "*Adapt the function `dist1(v1, v2)` in two ways:*\n",
    " * *a) use a list comprehension*\n",
    " * *b) use the `zip()` function.*"
   ]
  },
  {
   "cell_type": "markdown",
   "metadata": {
    "tags": [
     "solution"
    ]
   },
   "source": [
    "<div class=\"alert alert-info\">\n",
    "Lösung:\n",
    "</div>"
   ]
  },
  {
   "cell_type": "code",
   "execution_count": 55,
   "metadata": {
    "tags": [
     "solution"
    ]
   },
   "outputs": [],
   "source": [
    "def dist1_adapted(v1, v2):\n",
    "    dist = [(a - b)**2 for a, b in zip(v1, v2)]\n",
    "    return math.sqrt(sum(dist))\n",
    "\n",
    "v1 = [2,3,-1]\n",
    "v2 = [4,1,-2]\n",
    "\n",
    "assert dist1_adapted(v1,v2) == 3"
   ]
  },
  {
   "cell_type": "markdown",
   "metadata": {},
   "source": [
    "<div class=\"task_description\">\n",
    "    <i class=\"task\">Task 3.1:</i>\n",
    "</div>\n",
    "    \n",
    "Zeigen Sie, dass die Heuristiken $h_{MIS}$ und $h_{MAN}$ aus der Vorlesung für das 8-Puzzle konsistent (consistent) sind.\n",
    "    \n",
    "*Show that the heuristics $h_{MIS}$ and $h_{MAN}$ are consistent for the 8 puzzle.*"
   ]
  },
  {
   "cell_type": "markdown",
   "metadata": {
    "tags": [
     "solution"
    ]
   },
   "source": [
    "<div class=\"alert alert-info\">\n",
    "\n",
    "Zunächst ist festzustellen, dass die Kosten für eine Aktion (Zug) hier auf 1 gesetzt sind, d.h. für alle legalen Züge ist $c(n, a, n′) = 1$. <br>\n",
    "Für beide Heuristiken muss also gezeigt werden: $h(n) ≤ 1 + h(n′)$. <br>\n",
    "Die $h_{MIS}$ Heuristik zählt die Anzahl falsch platzierter Steine. Mit einem Zug kann sich die Anzahl der falsch platzierten Steine um maximal eins verringern, d.h. $h(n′) ≥ h(n) − 1$. <br>\n",
    "Die $h_{MAN}$ Heuristik zählt die Anzahl der Felder, die überquert werden müssen, um zur Zielposition zu gelangen (summiert über alle Steine). Mit einem Zug ändert sich die entsprechende Anzahl nur für einen Stein. Daher kann die Summe maximal um eins verringert werden.\n",
    "</div>"
   ]
  },
  {
   "cell_type": "markdown",
   "metadata": {},
   "source": [
    "<div class=\"task_description\">\n",
    "    <i class=\"task\">Task 3.2:</i>\n",
    "</div>\n",
    "\n",
    "Zeigen Sie, dass die Kombination zweier zulässiger (admissible) Heuristiken mittels max wieder zulässig (admissible) ist.\n",
    "\n",
    "*Show that the combination of two admissible heuristics through max is admissible again.*"
   ]
  },
  {
   "cell_type": "markdown",
   "metadata": {
    "tags": [
     "solution"
    ]
   },
   "source": [
    "<div class=\"alert alert-info\">\n",
    "\n",
    "Seien $h, h′$ zwei beliebige zulässige (admissible) Heuristiken bezüglich der wahren Kostenfunktion $h^∗$. Es gilt also: $h(n) ≤ h^∗(n)$ und $h′(n) ≤ h^∗(n)$ für alle $n$. <br><br>\n",
    "Sei $g$ nun die mittels dem Maximum-Operator kombinierte Heuristik von $h$ und $h′$, d.h. $g(n) := max(h(n),h′(n))$. Es gilt offensichtlich $g(n) ≤ h^∗(n)$, da für beliebige $n$, die Heuristik $g$ entweder $h(n)$ oder $h′(n)$ zurück liefert, welche beide per Konstruktion nicht größer als $h^∗(n)$ sind.\n",
    "</div>"
   ]
  },
  {
   "cell_type": "markdown",
   "metadata": {},
   "source": [
    "<div class=\"task_description\">\n",
    "    <i class=\"task\">Task 3.3:</i>\n",
    "</div>\n",
    "\n",
    "Eine Heuristik, die immer 0 zurückliefert ist offensichtlich admissible, da sie die wahren Kosten niemals überschätzt (besonders nütztlich scheint sie jedoch nicht zu sein). Welchem Ihnen bereits bekannten Suchverfahren entspricht A<sup>∗</sup> mit dieser Heuristik?\n",
    "\n",
    "*A heuristic that always returns 0 is obviously admissible because it never overestimates the true costs (but it does not seem to be particularly useful). Which search method you already know corresponds to A<sup>∗</sup> with this heuristic?*"
   ]
  },
  {
   "cell_type": "markdown",
   "metadata": {
    "tags": [
     "solution"
    ]
   },
   "source": [
    "<div class=\"alert alert-info\">\n",
    "\n",
    "Breadth-first search\n",
    "</div>"
   ]
  },
  {
   "cell_type": "markdown",
   "metadata": {},
   "source": [
    "# Hausübung"
   ]
  },
  {
   "cell_type": "markdown",
   "metadata": {},
   "source": [
    "### Abgaberichtlinien\n",
    "* Jede Hausübung bringt maximal 10 Hausaufgabenpunkte. 10 Hausaufgabenpunkte entsprechen einem Klausurpunkt.\n",
    "* Im Laufe des Semesters kann es zusätzliche Bonuspunkte (= 1 Klausurpunkt) für Hausübungen geben, in Form von z.B. Challenges, weitere Informationen folgen bei den betreffenden Hausübungen.\n",
    "* Die Abgabe erfolgt in Zweier- oder Dreierteams. **Einzelabgaben werden nicht gewertet**. Die Teammitglieder müssen nicht in derselben Übungsgruppe sein. Bei Problemen bzw. Einzelfällen hinsichtlich dieser Richtlinie kontaktieren Sie einen Tutor.\n",
    "* In der Abgabe müssen alle Teammitglieder mit **Namen und Matrikelnummern gut sichtbar** genannt werden.\n",
    "* Es muss immer nur **ein Teammitglied der Gruppe abgeben**. Sollten aus Versehen mehrere Abgaben der selben Übung erfolgen, kommunizieren Sie dies **zeitnah** an einen Tutor, ansonsten wird die erste korrigierte Abgabe gewertet.\n",
    "* Die Abgabe soll als Jupyter-Notebook erfolgen (.ipynb). Abgaben in einem **anderen Format werden nicht gewertet**. Bei Problemen hinsichtlich dieser Richtlinie kontaktieren Sie einen Tutor.\n",
    "* Es ist nicht nötig, den Präsenzübungsteil in der Abgabe mit abzugeben. Es wird lediglich der Hausübungsteil gewertet.\n",
    "* Wenn Bilder mit abgegeben werden, ist es erlaubt, diese zusammen mit dem Notebook als zip-Ordner abzugeben. Diese sollten folgendermaßen eingefügt werden: ``![Beispiel1](Beispielbild1.PNG)`` (ohne Apostrophe in einer Markdown-Cell)."
   ]
  },
  {
   "cell_type": "markdown",
   "metadata": {},
   "source": [
    "### *Submission guidelines*\n",
    "* *You can reach up to 10 homework points for every homework submission. 10 homework points correspond to one exam point.*\n",
    "* *In the course of the semester, there will be extra bonus points (where each bonus point equals to one exam point) for the homeworks. These will be given in the form of e.g. challenges inside the homeworks. More information will be given in the corresponding homeworks.*\n",
    "* *The submission has to be done by a team of two to three people. **Individual submissions will not be graded**. The team members do not have to attend the same exercise group. If there are any problems regarding this guideline, please reach out to a tutor.*\n",
    "* *Please state the **name and matriculation number of all team members** in every submission **clearly**.*\n",
    "* *Only **one team member should submit** the homework. If more than one version of the same homework is submitted by accident (submitted by more than one group member), please reach out to a tutor **as soon as possible**. Otherwise, the first submitted homework will be graded.*\n",
    "* *The submission must be in a Jupyter Notebook format (.ipynb). Submissions in **other formats will not be graded**. If there are any problems regarding this guideline, please reach out to a tutor.*\n",
    "* *It is not necessary to also submit the part of the exercise discussed by the tutor, please only submit the homework part.*\n",
    "* *If pictures need to be submitted, it is allowed to hand them in in a zip folder, together with the notebook. They should be added to the notebook like this: ``![example1](examplepicture1.PNG)`` (without apostrophs in a Markdown-Cell).*"
   ]
  },
  {
   "cell_type": "markdown",
   "metadata": {},
   "source": [
    "<div class=\"task_description\">\n",
    "    <i class=\"task\">Homework 1.1:</i>\n",
    "        :::4 Hausaufgabenpunkte :::</div>\n",
    "        \n",
    "Bestimmen Sie den Weg von Mannheim nach Ulm. Als Kosten dienen die Distanzen auf der Karte und\n",
    "als Heuristik die Luftliniendistanz (SLD).<br>\n",
    "\n",
    "1. Verwenden Sie Greedy Best First Search,\n",
    "2. Verwenden Sie A<sup>∗</sup> Search.\n",
    "\n",
    "Notieren Sie die Reihenfolge, in der die Knoten expandiert werden. Erstellen Sie jeweils einen Baum (z.B. mit draw.io) und geben Sie pro Knoten die Evaluierungsfunktion an.\n",
    "\n",
    "*Determine the way from Mannheim to Ulm. The costs are the distances on the map and the heuristic the airline distance (SLD). Create a tree (e.g. with draw.io) and write down the evaluation function for every node.*\n",
    "\n",
    "1. *Use Greedy Best First Search,*\n",
    "2. *Use A<sup>∗</sup> Search.*\n",
    "\n",
    "*Note the order in which the nodes are expanded.*"
   ]
  },
  {
   "cell_type": "markdown",
   "metadata": {},
   "source": [
    "![Karte Rumaenien](img/exercise4/Karte_Sueddeutschland.png)"
   ]
  },
  {
   "cell_type": "markdown",
   "metadata": {},
   "source": [
    "<div class=\"task_description\">\n",
    "    <i class=\"task\">Homework 1.2:</i>\n",
    "        :::2 Hausaufgabenpunkt :::</div>\n",
    "        \n",
    "Verwenden Sie Greedy Best First Search um den Weg von Innsbruck nach Ulm zu bestimmen. Als Heuristik dient die\n",
    "Luftliniendistanz (SLD) auf der Karte. Notieren Sie die Reihenfolge, in der die Knoten expandiert\n",
    "werden. Erstellen Sie jeweils einen Baum (z.B. mit draw.io) und geben Sie pro Knoten die Evaluierungsfunktion an.\n",
    "\n",
    "*Use Greedy Best First Search to determine the route from Innsbruck to Ulm. Heuristic is the airline distance (SLD) on the map. Note the order in which the nodes are expanded. Create a tree (e.g. with draw.io) and write down the evaluation function for every node.*"
   ]
  },
  {
   "cell_type": "markdown",
   "metadata": {},
   "source": [
    "<div class=\"task_description\">\n",
    "    <i class=\"task\">Homework 1.3:</i>\n",
    "        :::4 Hausaufgabenpunkte :::</div>\n",
    "        \n",
    "Verwenden Sie A* Search um den Weg von Linz nach Ulm zu bestimmen.<br>\n",
    "Als Kosten dienen die Distanzen auf der Karte und als Heuristik die Luftliniendistanz (SLD).<br>\n",
    "ACHTUNG: Auf der Strecke von München nach Ulm ist ein Gurkenlaster umgekippt. Die Strecke musste gesperrt\n",
    "werden und kann somit in beide Richtungen nicht befahren werden!<br><br>\n",
    "Notieren Sie die Reihenfolge, in der die Knoten expandiert werden. Erstellen Sie jeweils einen Baum (z.B. mit draw.io) und geben Sie pro Knoten die Evaluierungsfunktion an.\n",
    "\n",
    "\n",
    "*Use A<sup>∗</sup> Search to determine the route from Linz to Ulm. The costs are the distances on the map and heuristicis  the airline distance (SLD).<br>\n",
    "ATTENTION: On the way from Munich to Ulm a cucumber truck has been overturned. The track had to be blocked\n",
    "and can not be used in both directions! <br> <br>\n",
    "Note the order in which the nodes are expanded. Create a tree (e.g. with draw.io) and write down the evaluation function for every node.*"
   ]
  }
 ],
 "metadata": {
  "celltoolbar": "Tags",
  "kernelspec": {
   "display_name": "Python 3",
   "language": "python",
   "name": "python3"
  },
  "language_info": {
   "codemirror_mode": {
    "name": "ipython",
    "version": 3
   },
   "file_extension": ".py",
   "mimetype": "text/x-python",
   "name": "python",
   "nbconvert_exporter": "python",
   "pygments_lexer": "ipython3",
   "version": "3.8.2"
  },
  "varInspector": {
   "cols": {
    "lenName": 16,
    "lenType": 16,
    "lenVar": 40
   },
   "kernels_config": {
    "python": {
     "delete_cmd_postfix": "",
     "delete_cmd_prefix": "del ",
     "library": "var_list.py",
     "varRefreshCmd": "print(var_dic_list())"
    },
    "r": {
     "delete_cmd_postfix": ") ",
     "delete_cmd_prefix": "rm(",
     "library": "var_list.r",
     "varRefreshCmd": "cat(var_dic_list()) "
    }
   },
   "types_to_exclude": [
    "module",
    "function",
    "builtin_function_or_method",
    "instance",
    "_Feature"
   ],
   "window_display": false
  }
 },
 "nbformat": 4,
 "nbformat_minor": 2
}
